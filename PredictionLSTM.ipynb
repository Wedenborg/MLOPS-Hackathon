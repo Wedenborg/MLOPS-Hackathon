{
 "cells": [
  {
   "cell_type": "code",
   "execution_count": 3,
   "id": "c9fe2194",
   "metadata": {},
   "outputs": [],
   "source": [
    "import numpy as np\n",
    "import pandas as pd\n",
    "import seaborn as sns\n",
    "sns.set_style('whitegrid')\n",
    "import matplotlib.pyplot as plt\n",
    "plt.style.use(\"fivethirtyeight\")\n",
    "\n",
    "import wandb\n",
    "from wandb.integration.keras import WandbCallback\n",
    "\n",
    "\n",
    "import carbontracker\n",
    "from keras.models import Sequential\n",
    "from keras.callbacks import EarlyStopping\n",
    "from keras.layers import Dense, LSTM, Dropout\n",
    "import tensorflow as tf\n",
    "import codecarbon\n",
    "from codecarbon import EmissionsTracker\n",
    "from sklearn.preprocessing import MinMaxScaler"
   ]
  },
  {
   "cell_type": "code",
   "execution_count": 4,
   "id": "45dda9b9",
   "metadata": {},
   "outputs": [
    {
     "name": "stderr",
     "output_type": "stream",
     "text": [
      "[codecarbon WARNING @ 14:44:20] Multiple instances of codecarbon are allowed to run at the same time.\n",
      "[codecarbon INFO @ 14:44:20] [setup] RAM Tracking...\n",
      "[codecarbon INFO @ 14:44:20] [setup] CPU Tracking...\n",
      "[codecarbon WARNING @ 14:44:22] No CPU tracking mode found. Falling back on estimation based on TDP for CPU. \n",
      " Windows OS detected: Please install Intel Power Gadget to measure CPU\n",
      "\n",
      "[codecarbon INFO @ 14:44:22] CPU Model on constant consumption mode: 11th Gen Intel(R) Core(TM) i7-1185G7 @ 3.00GHz\n",
      "[codecarbon WARNING @ 14:44:22] No CPU tracking mode found. Falling back on CPU constant mode.\n",
      "[codecarbon INFO @ 14:44:22] [setup] GPU Tracking...\n",
      "[codecarbon INFO @ 14:44:22] No GPU found.\n",
      "[codecarbon INFO @ 14:44:22] The below tracking methods have been set up:\n",
      "                RAM Tracking Method: RAM power estimation model\n",
      "                CPU Tracking Method: global constant\n",
      "                GPU Tracking Method: Unspecified\n",
      "            \n",
      "[codecarbon INFO @ 14:44:22] >>> Tracker's metadata:\n",
      "[codecarbon INFO @ 14:44:22]   Platform system: Windows-10-10.0.26100-SP0\n",
      "[codecarbon INFO @ 14:44:22]   Python version: 3.10.7\n",
      "[codecarbon INFO @ 14:44:22]   CodeCarbon version: 3.0.4\n",
      "[codecarbon INFO @ 14:44:22]   Available RAM : 31.688 GB\n",
      "[codecarbon INFO @ 14:44:22]   CPU count: 8 thread(s) in 8 physical CPU(s)\n",
      "[codecarbon INFO @ 14:44:22]   CPU model: 11th Gen Intel(R) Core(TM) i7-1185G7 @ 3.00GHz\n",
      "[codecarbon INFO @ 14:44:22]   GPU count: None\n",
      "[codecarbon INFO @ 14:44:22]   GPU model: None\n",
      "[codecarbon INFO @ 14:44:26] Emissions data (if any) will be saved to file c:\\Users\\aejew\\OneDrive - Danmarks Tekniske Universitet\\Dokumenter\\GitHub\\MLOPS-Hackathon\\emissions.csv\n"
     ]
    }
   ],
   "source": [
    "# Create a tracker\n",
    "tracker = EmissionsTracker(project_name=\"tensorflow_experiment\")\n",
    "tracker.start()"
   ]
  },
  {
   "cell_type": "code",
   "execution_count": 18,
   "id": "2a6be91d",
   "metadata": {},
   "outputs": [],
   "source": [
    "data_dir = 'data/DailyDelhiClimateTrain.csv'\n",
    "df = pd.read_csv(data_dir)"
   ]
  },
  {
   "cell_type": "code",
   "execution_count": 19,
   "id": "be77d203",
   "metadata": {},
   "outputs": [
    {
     "data": {
      "text/html": [
       "Finishing previous runs because reinit is set to 'default'."
      ],
      "text/plain": [
       "<IPython.core.display.HTML object>"
      ]
     },
     "metadata": {},
     "output_type": "display_data"
    },
    {
     "name": "stderr",
     "output_type": "stream",
     "text": [
      "\u001b[34m\u001b[1mwandb\u001b[0m: \u001b[32m\u001b[41mERROR\u001b[0m The nbformat package was not found. It is required to save notebook history.\n"
     ]
    },
    {
     "data": {
      "text/html": [],
      "text/plain": [
       "<IPython.core.display.HTML object>"
      ]
     },
     "metadata": {},
     "output_type": "display_data"
    },
    {
     "data": {
      "text/html": [
       " View run <strong style=\"color:#cdcd00\">temperature-forecasting-lstm</strong> at: <a href='https://wandb.ai/emiliewedenborg-technical-university-of-denmark/MLOPS-Hackathon/runs/5m9o6m1u' target=\"_blank\">https://wandb.ai/emiliewedenborg-technical-university-of-denmark/MLOPS-Hackathon/runs/5m9o6m1u</a><br> View project at: <a href='https://wandb.ai/emiliewedenborg-technical-university-of-denmark/MLOPS-Hackathon' target=\"_blank\">https://wandb.ai/emiliewedenborg-technical-university-of-denmark/MLOPS-Hackathon</a><br>Synced 5 W&B file(s), 0 media file(s), 0 artifact file(s) and 0 other file(s)"
      ],
      "text/plain": [
       "<IPython.core.display.HTML object>"
      ]
     },
     "metadata": {},
     "output_type": "display_data"
    },
    {
     "data": {
      "text/html": [
       "Find logs at: <code>.\\wandb\\run-20250821_144427-5m9o6m1u\\logs</code>"
      ],
      "text/plain": [
       "<IPython.core.display.HTML object>"
      ]
     },
     "metadata": {},
     "output_type": "display_data"
    },
    {
     "data": {
      "text/html": [
       "Tracking run with wandb version 0.21.1"
      ],
      "text/plain": [
       "<IPython.core.display.HTML object>"
      ]
     },
     "metadata": {},
     "output_type": "display_data"
    },
    {
     "data": {
      "text/html": [
       "Run data is saved locally in <code>c:\\Users\\aejew\\OneDrive - Danmarks Tekniske Universitet\\Dokumenter\\GitHub\\MLOPS-Hackathon\\wandb\\run-20250821_144502-3dhii07i</code>"
      ],
      "text/plain": [
       "<IPython.core.display.HTML object>"
      ]
     },
     "metadata": {},
     "output_type": "display_data"
    },
    {
     "data": {
      "text/html": [
       "Syncing run <strong><a href='https://wandb.ai/emiliewedenborg-technical-university-of-denmark/MLOPS-Hackathon/runs/3dhii07i' target=\"_blank\">temperature-forecasting-lstm</a></strong> to <a href='https://wandb.ai/emiliewedenborg-technical-university-of-denmark/MLOPS-Hackathon' target=\"_blank\">Weights & Biases</a> (<a href='https://wandb.me/developer-guide' target=\"_blank\">docs</a>)<br>"
      ],
      "text/plain": [
       "<IPython.core.display.HTML object>"
      ]
     },
     "metadata": {},
     "output_type": "display_data"
    },
    {
     "data": {
      "text/html": [
       " View project at <a href='https://wandb.ai/emiliewedenborg-technical-university-of-denmark/MLOPS-Hackathon' target=\"_blank\">https://wandb.ai/emiliewedenborg-technical-university-of-denmark/MLOPS-Hackathon</a>"
      ],
      "text/plain": [
       "<IPython.core.display.HTML object>"
      ]
     },
     "metadata": {},
     "output_type": "display_data"
    },
    {
     "data": {
      "text/html": [
       " View run at <a href='https://wandb.ai/emiliewedenborg-technical-university-of-denmark/MLOPS-Hackathon/runs/3dhii07i' target=\"_blank\">https://wandb.ai/emiliewedenborg-technical-university-of-denmark/MLOPS-Hackathon/runs/3dhii07i</a>"
      ],
      "text/plain": [
       "<IPython.core.display.HTML object>"
      ]
     },
     "metadata": {},
     "output_type": "display_data"
    }
   ],
   "source": [
    "# Initialize a W&B run and set hyperparameters\n",
    "wandb.init(\n",
    "    project=\"MLOPS-Hackathon\",   # Name of your project\n",
    "    entity=\"emiliewedenborg-technical-university-of-denmark\",  # Replace with your W&B entity\n",
    "    name=\"temperature-forecasting-lstm\",  # Name of the run\n",
    "\n",
    "    config={\n",
    "        \"epochs\": 10,\n",
    "        \"batch_size\": 32,\n",
    "        \"learning_rate\": 0.001,\n",
    "        \"optimizer\": \"adam\"\n",
    "    }\n",
    ")\n",
    "\n",
    "config = wandb.config\n"
   ]
  },
  {
   "cell_type": "code",
   "execution_count": 20,
   "id": "01823689",
   "metadata": {},
   "outputs": [
    {
     "data": {
      "text/plain": [
       "(1462, 1)"
      ]
     },
     "execution_count": 20,
     "metadata": {},
     "output_type": "execute_result"
    }
   ],
   "source": [
    "df['date'] = pd.to_datetime(df['date'])\n",
    "df.set_index('date', inplace= True)\n",
    "\n",
    "n_cols = 1\n",
    "dataset = df[\"meantemp\"]\n",
    "dataset = pd.DataFrame(dataset)\n",
    "data = dataset.values\n",
    "\n",
    "data.shape"
   ]
  },
  {
   "cell_type": "code",
   "execution_count": 21,
   "id": "7238865e",
   "metadata": {},
   "outputs": [],
   "source": [
    "from sklearn.preprocessing import MinMaxScaler\n",
    "scaler = MinMaxScaler(feature_range= (0, 1))\n",
    "scaled_data = scaler.fit_transform(np.array(data))"
   ]
  },
  {
   "cell_type": "code",
   "execution_count": 22,
   "id": "3b3484d4",
   "metadata": {},
   "outputs": [
    {
     "name": "stdout",
     "output_type": "stream",
     "text": [
      "Train Size : 1096 Test Size : 366\n"
     ]
    }
   ],
   "source": [
    "train_size = int(len(data) * 0.75)\n",
    "test_size = len(data) - train_size\n",
    "print(\"Train Size :\",train_size,\"Test Size :\",test_size)"
   ]
  },
  {
   "cell_type": "code",
   "execution_count": 23,
   "id": "8f6e8825",
   "metadata": {},
   "outputs": [
    {
     "data": {
      "text/plain": [
       "(1096, 1)"
      ]
     },
     "execution_count": 23,
     "metadata": {},
     "output_type": "execute_result"
    }
   ],
   "source": [
    "train_data = scaled_data[0:train_size, :]\n",
    "train_data.shape"
   ]
  },
  {
   "cell_type": "code",
   "execution_count": null,
   "id": "aade73a0",
   "metadata": {},
   "outputs": [
    {
     "name": "stderr",
     "output_type": "stream",
     "text": [
      "[codecarbon INFO @ 14:45:11] Energy consumed for RAM : 0.000250 kWh. RAM Power : 20.0 W\n",
      "[codecarbon INFO @ 14:45:11] Delta energy consumed for CPU with constant : 0.000467 kWh, power : 112.0 W\n",
      "[codecarbon INFO @ 14:45:11] Energy consumed for All CPU : 0.001401 kWh\n",
      "[codecarbon INFO @ 14:45:11] 0.001651 kWh of electricity used since the beginning.\n"
     ]
    }
   ],
   "source": [
    "# Creating a Training set with 60 time-steps\n",
    "x_train = []\n",
    "y_train = []\n",
    "time_steps = 60\n",
    "n_cols = 1\n",
    "\n",
    "for i in range(time_steps, len(scaled_data)):\n",
    "    x_train.append(scaled_data[i-time_steps:i, :n_cols])\n",
    "    y_train.append(scaled_data[i, :n_cols])"
   ]
  },
  {
   "cell_type": "code",
   "execution_count": 25,
   "id": "a7ee4173",
   "metadata": {},
   "outputs": [],
   "source": [
    "# Convert to numpy array\n",
    "x_train, y_train = np.array(x_train), np.array(y_train)"
   ]
  },
  {
   "cell_type": "code",
   "execution_count": 26,
   "id": "794f539a",
   "metadata": {},
   "outputs": [],
   "source": [
    "# Reshaping the input to (n_samples, time_steps, n_feature)\n",
    "x_train = np.reshape(x_train, (x_train.shape[0], x_train.shape[1], n_cols))"
   ]
  },
  {
   "cell_type": "code",
   "execution_count": 27,
   "id": "d570c539",
   "metadata": {},
   "outputs": [
    {
     "data": {
      "text/plain": [
       "((1402, 60, 1), (1402, 1))"
      ]
     },
     "execution_count": 27,
     "metadata": {},
     "output_type": "execute_result"
    },
    {
     "name": "stderr",
     "output_type": "stream",
     "text": [
      "[codecarbon INFO @ 14:45:16] Energy consumed for RAM : 0.000416 kWh. RAM Power : 20.0 W\n",
      "[codecarbon INFO @ 14:45:16] Delta energy consumed for CPU with constant : 0.000467 kWh, power : 112.0 W\n"
     ]
    }
   ],
   "source": [
    "x_train.shape , y_train.shape"
   ]
  },
  {
   "cell_type": "code",
   "execution_count": 28,
   "id": "0cd69fc9",
   "metadata": {},
   "outputs": [
    {
     "name": "stderr",
     "output_type": "stream",
     "text": [
      "[codecarbon INFO @ 14:45:16] Energy consumed for All CPU : 0.002334 kWh\n",
      "c:\\Users\\aejew\\OneDrive - Danmarks Tekniske Universitet\\Dokumenter\\GitHub\\MLOPS-Hackathon\\.venv\\lib\\site-packages\\keras\\src\\layers\\rnn\\rnn.py:199: UserWarning: Do not pass an `input_shape`/`input_dim` argument to a layer. When using Sequential models, prefer using an `Input(shape)` object as the first layer in the model instead.\n",
      "  super().__init__(**kwargs)\n",
      "[codecarbon INFO @ 14:45:16] 0.002751 kWh of electricity used since the beginning.\n"
     ]
    }
   ],
   "source": [
    "model = Sequential([\n",
    "    LSTM(50, return_sequences= True, input_shape= (x_train.shape[1], n_cols)),\n",
    "    LSTM(64, return_sequences= False),\n",
    "    Dense(32),\n",
    "    Dense(16),\n",
    "    Dense(n_cols)\n",
    "])\n",
    "\n",
    "model.compile(optimizer= 'adam', loss= 'mse' , metrics= [\"mean_absolute_error\"])"
   ]
  },
  {
   "cell_type": "code",
   "execution_count": 29,
   "id": "71fb695e",
   "metadata": {},
   "outputs": [
    {
     "data": {
      "text/html": [
       "<pre style=\"white-space:pre;overflow-x:auto;line-height:normal;font-family:Menlo,'DejaVu Sans Mono',consolas,'Courier New',monospace\"><span style=\"font-weight: bold\">Model: \"sequential_1\"</span>\n",
       "</pre>\n"
      ],
      "text/plain": [
       "\u001b[1mModel: \"sequential_1\"\u001b[0m\n"
      ]
     },
     "metadata": {},
     "output_type": "display_data"
    },
    {
     "data": {
      "text/html": [
       "<pre style=\"white-space:pre;overflow-x:auto;line-height:normal;font-family:Menlo,'DejaVu Sans Mono',consolas,'Courier New',monospace\">┏━━━━━━━━━━━━━━━━━━━━━━━━━━━━━━━━━┳━━━━━━━━━━━━━━━━━━━━━━━━┳━━━━━━━━━━━━━━━┓\n",
       "┃<span style=\"font-weight: bold\"> Layer (type)                    </span>┃<span style=\"font-weight: bold\"> Output Shape           </span>┃<span style=\"font-weight: bold\">       Param # </span>┃\n",
       "┡━━━━━━━━━━━━━━━━━━━━━━━━━━━━━━━━━╇━━━━━━━━━━━━━━━━━━━━━━━━╇━━━━━━━━━━━━━━━┩\n",
       "│ lstm_2 (<span style=\"color: #0087ff; text-decoration-color: #0087ff\">LSTM</span>)                   │ (<span style=\"color: #00d7ff; text-decoration-color: #00d7ff\">None</span>, <span style=\"color: #00af00; text-decoration-color: #00af00\">60</span>, <span style=\"color: #00af00; text-decoration-color: #00af00\">50</span>)         │        <span style=\"color: #00af00; text-decoration-color: #00af00\">10,400</span> │\n",
       "├─────────────────────────────────┼────────────────────────┼───────────────┤\n",
       "│ lstm_3 (<span style=\"color: #0087ff; text-decoration-color: #0087ff\">LSTM</span>)                   │ (<span style=\"color: #00d7ff; text-decoration-color: #00d7ff\">None</span>, <span style=\"color: #00af00; text-decoration-color: #00af00\">64</span>)             │        <span style=\"color: #00af00; text-decoration-color: #00af00\">29,440</span> │\n",
       "├─────────────────────────────────┼────────────────────────┼───────────────┤\n",
       "│ dense_3 (<span style=\"color: #0087ff; text-decoration-color: #0087ff\">Dense</span>)                 │ (<span style=\"color: #00d7ff; text-decoration-color: #00d7ff\">None</span>, <span style=\"color: #00af00; text-decoration-color: #00af00\">32</span>)             │         <span style=\"color: #00af00; text-decoration-color: #00af00\">2,080</span> │\n",
       "├─────────────────────────────────┼────────────────────────┼───────────────┤\n",
       "│ dense_4 (<span style=\"color: #0087ff; text-decoration-color: #0087ff\">Dense</span>)                 │ (<span style=\"color: #00d7ff; text-decoration-color: #00d7ff\">None</span>, <span style=\"color: #00af00; text-decoration-color: #00af00\">16</span>)             │           <span style=\"color: #00af00; text-decoration-color: #00af00\">528</span> │\n",
       "├─────────────────────────────────┼────────────────────────┼───────────────┤\n",
       "│ dense_5 (<span style=\"color: #0087ff; text-decoration-color: #0087ff\">Dense</span>)                 │ (<span style=\"color: #00d7ff; text-decoration-color: #00d7ff\">None</span>, <span style=\"color: #00af00; text-decoration-color: #00af00\">1</span>)              │            <span style=\"color: #00af00; text-decoration-color: #00af00\">17</span> │\n",
       "└─────────────────────────────────┴────────────────────────┴───────────────┘\n",
       "</pre>\n"
      ],
      "text/plain": [
       "┏━━━━━━━━━━━━━━━━━━━━━━━━━━━━━━━━━┳━━━━━━━━━━━━━━━━━━━━━━━━┳━━━━━━━━━━━━━━━┓\n",
       "┃\u001b[1m \u001b[0m\u001b[1mLayer (type)                   \u001b[0m\u001b[1m \u001b[0m┃\u001b[1m \u001b[0m\u001b[1mOutput Shape          \u001b[0m\u001b[1m \u001b[0m┃\u001b[1m \u001b[0m\u001b[1m      Param #\u001b[0m\u001b[1m \u001b[0m┃\n",
       "┡━━━━━━━━━━━━━━━━━━━━━━━━━━━━━━━━━╇━━━━━━━━━━━━━━━━━━━━━━━━╇━━━━━━━━━━━━━━━┩\n",
       "│ lstm_2 (\u001b[38;5;33mLSTM\u001b[0m)                   │ (\u001b[38;5;45mNone\u001b[0m, \u001b[38;5;34m60\u001b[0m, \u001b[38;5;34m50\u001b[0m)         │        \u001b[38;5;34m10,400\u001b[0m │\n",
       "├─────────────────────────────────┼────────────────────────┼───────────────┤\n",
       "│ lstm_3 (\u001b[38;5;33mLSTM\u001b[0m)                   │ (\u001b[38;5;45mNone\u001b[0m, \u001b[38;5;34m64\u001b[0m)             │        \u001b[38;5;34m29,440\u001b[0m │\n",
       "├─────────────────────────────────┼────────────────────────┼───────────────┤\n",
       "│ dense_3 (\u001b[38;5;33mDense\u001b[0m)                 │ (\u001b[38;5;45mNone\u001b[0m, \u001b[38;5;34m32\u001b[0m)             │         \u001b[38;5;34m2,080\u001b[0m │\n",
       "├─────────────────────────────────┼────────────────────────┼───────────────┤\n",
       "│ dense_4 (\u001b[38;5;33mDense\u001b[0m)                 │ (\u001b[38;5;45mNone\u001b[0m, \u001b[38;5;34m16\u001b[0m)             │           \u001b[38;5;34m528\u001b[0m │\n",
       "├─────────────────────────────────┼────────────────────────┼───────────────┤\n",
       "│ dense_5 (\u001b[38;5;33mDense\u001b[0m)                 │ (\u001b[38;5;45mNone\u001b[0m, \u001b[38;5;34m1\u001b[0m)              │            \u001b[38;5;34m17\u001b[0m │\n",
       "└─────────────────────────────────┴────────────────────────┴───────────────┘\n"
      ]
     },
     "metadata": {},
     "output_type": "display_data"
    },
    {
     "data": {
      "text/html": [
       "<pre style=\"white-space:pre;overflow-x:auto;line-height:normal;font-family:Menlo,'DejaVu Sans Mono',consolas,'Courier New',monospace\"><span style=\"font-weight: bold\"> Total params: </span><span style=\"color: #00af00; text-decoration-color: #00af00\">42,465</span> (165.88 KB)\n",
       "</pre>\n"
      ],
      "text/plain": [
       "\u001b[1m Total params: \u001b[0m\u001b[38;5;34m42,465\u001b[0m (165.88 KB)\n"
      ]
     },
     "metadata": {},
     "output_type": "display_data"
    },
    {
     "data": {
      "text/html": [
       "<pre style=\"white-space:pre;overflow-x:auto;line-height:normal;font-family:Menlo,'DejaVu Sans Mono',consolas,'Courier New',monospace\"><span style=\"font-weight: bold\"> Trainable params: </span><span style=\"color: #00af00; text-decoration-color: #00af00\">42,465</span> (165.88 KB)\n",
       "</pre>\n"
      ],
      "text/plain": [
       "\u001b[1m Trainable params: \u001b[0m\u001b[38;5;34m42,465\u001b[0m (165.88 KB)\n"
      ]
     },
     "metadata": {},
     "output_type": "display_data"
    },
    {
     "data": {
      "text/html": [
       "<pre style=\"white-space:pre;overflow-x:auto;line-height:normal;font-family:Menlo,'DejaVu Sans Mono',consolas,'Courier New',monospace\"><span style=\"font-weight: bold\"> Non-trainable params: </span><span style=\"color: #00af00; text-decoration-color: #00af00\">0</span> (0.00 B)\n",
       "</pre>\n"
      ],
      "text/plain": [
       "\u001b[1m Non-trainable params: \u001b[0m\u001b[38;5;34m0\u001b[0m (0.00 B)\n"
      ]
     },
     "metadata": {},
     "output_type": "display_data"
    }
   ],
   "source": [
    "model.summary()\n"
   ]
  },
  {
   "cell_type": "code",
   "execution_count": null,
   "id": "cb385e36",
   "metadata": {},
   "outputs": [
    {
     "name": "stdout",
     "output_type": "stream",
     "text": [
      "Epoch 1/100\n"
     ]
    },
    {
     "name": "stdout",
     "output_type": "stream",
     "text": [
      "\u001b[1m20/44\u001b[0m \u001b[32m━━━━━━━━━\u001b[0m\u001b[37m━━━━━━━━━━━\u001b[0m \u001b[1m1s\u001b[0m 72ms/step - loss: 0.1157 - mean_absolute_error: 0.2690"
     ]
    },
    {
     "name": "stderr",
     "output_type": "stream",
     "text": [
      "[codecarbon INFO @ 14:45:41] Energy consumed for RAM : 0.000416 kWh. RAM Power : 20.0 W\n",
      "[codecarbon INFO @ 14:45:41] Delta energy consumed for CPU with constant : 0.000467 kWh, power : 112.0 W\n",
      "[codecarbon INFO @ 14:45:41] Energy consumed for All CPU : 0.002334 kWh\n",
      "[codecarbon INFO @ 14:45:41] 0.002751 kWh of electricity used since the beginning.\n"
     ]
    },
    {
     "name": "stdout",
     "output_type": "stream",
     "text": [
      "\u001b[1m44/44\u001b[0m \u001b[32m━━━━━━━━━━━━━━━━━━━━\u001b[0m\u001b[37m\u001b[0m \u001b[1m3s\u001b[0m 73ms/step - loss: 0.0315 - mean_absolute_error: 0.1308\n",
      "Epoch 2/100\n",
      "\u001b[1m43/44\u001b[0m \u001b[32m━━━━━━━━━━━━━━━━━━━\u001b[0m\u001b[37m━\u001b[0m \u001b[1m0s\u001b[0m 78ms/step - loss: 0.0069 - mean_absolute_error: 0.0651"
     ]
    },
    {
     "name": "stderr",
     "output_type": "stream",
     "text": [
      "[codecarbon INFO @ 14:45:46] Energy consumed for RAM : 0.000583 kWh. RAM Power : 20.0 W\n",
      "[codecarbon INFO @ 14:45:46] Delta energy consumed for CPU with constant : 0.000467 kWh, power : 112.0 W\n",
      "[codecarbon INFO @ 14:45:46] Energy consumed for All CPU : 0.003267 kWh\n",
      "[codecarbon INFO @ 14:45:46] 0.003850 kWh of electricity used since the beginning.\n"
     ]
    },
    {
     "name": "stdout",
     "output_type": "stream",
     "text": [
      "\u001b[1m44/44\u001b[0m \u001b[32m━━━━━━━━━━━━━━━━━━━━\u001b[0m\u001b[37m\u001b[0m \u001b[1m4s\u001b[0m 80ms/step - loss: 0.0061 - mean_absolute_error: 0.0616\n",
      "Epoch 3/100\n",
      "\u001b[1m44/44\u001b[0m \u001b[32m━━━━━━━━━━━━━━━━━━━━\u001b[0m\u001b[37m\u001b[0m \u001b[1m5s\u001b[0m 76ms/step - loss: 0.0051 - mean_absolute_error: 0.0563\n",
      "Epoch 4/100\n",
      "\u001b[1m38/44\u001b[0m \u001b[32m━━━━━━━━━━━━━━━━━\u001b[0m\u001b[37m━━━\u001b[0m \u001b[1m0s\u001b[0m 71ms/step - loss: 0.0049 - mean_absolute_error: 0.0552"
     ]
    },
    {
     "name": "stderr",
     "output_type": "stream",
     "text": [
      "[codecarbon INFO @ 14:45:56] Energy consumed for RAM : 0.000499 kWh. RAM Power : 20.0 W\n",
      "[codecarbon INFO @ 14:45:56] Delta energy consumed for CPU with constant : 0.000467 kWh, power : 112.0 W\n"
     ]
    },
    {
     "name": "stdout",
     "output_type": "stream",
     "text": [
      "\u001b[1m39/44\u001b[0m \u001b[32m━━━━━━━━━━━━━━━━━\u001b[0m\u001b[37m━━━\u001b[0m \u001b[1m0s\u001b[0m 71ms/step - loss: 0.0049 - mean_absolute_error: 0.0552"
     ]
    },
    {
     "name": "stderr",
     "output_type": "stream",
     "text": [
      "[codecarbon INFO @ 14:45:56] Energy consumed for All CPU : 0.002801 kWh\n",
      "[codecarbon INFO @ 14:45:56] 0.003300 kWh of electricity used since the beginning.\n"
     ]
    },
    {
     "name": "stdout",
     "output_type": "stream",
     "text": [
      "\u001b[1m44/44\u001b[0m \u001b[32m━━━━━━━━━━━━━━━━━━━━\u001b[0m\u001b[37m\u001b[0m \u001b[1m5s\u001b[0m 73ms/step - loss: 0.0048 - mean_absolute_error: 0.0551\n",
      "Epoch 5/100\n",
      "\u001b[1m44/44\u001b[0m \u001b[32m━━━━━━━━━━━━━━━━━━━━\u001b[0m\u001b[37m\u001b[0m \u001b[1m3s\u001b[0m 78ms/step - loss: 0.0048 - mean_absolute_error: 0.0544\n",
      "Epoch 6/100\n",
      "\u001b[1m14/44\u001b[0m \u001b[32m━━━━━━\u001b[0m\u001b[37m━━━━━━━━━━━━━━\u001b[0m \u001b[1m2s\u001b[0m 79ms/step - loss: 0.0053 - mean_absolute_error: 0.0580"
     ]
    },
    {
     "name": "stderr",
     "output_type": "stream",
     "text": [
      "[codecarbon INFO @ 14:46:01] Energy consumed for RAM : 0.000666 kWh. RAM Power : 20.0 W\n",
      "[codecarbon INFO @ 14:46:01] Delta energy consumed for CPU with constant : 0.000467 kWh, power : 112.0 W\n"
     ]
    },
    {
     "name": "stdout",
     "output_type": "stream",
     "text": [
      "\u001b[1m15/44\u001b[0m \u001b[32m━━━━━━\u001b[0m\u001b[37m━━━━━━━━━━━━━━\u001b[0m \u001b[1m2s\u001b[0m 80ms/step - loss: 0.0053 - mean_absolute_error: 0.0580"
     ]
    },
    {
     "name": "stderr",
     "output_type": "stream",
     "text": [
      "[codecarbon INFO @ 14:46:01] Energy consumed for All CPU : 0.003734 kWh\n",
      "[codecarbon INFO @ 14:46:01] 0.004400 kWh of electricity used since the beginning.\n",
      "[codecarbon INFO @ 14:46:01] 0.005555 g.CO2eq/s mean an estimation of 175.18083588285953 kg.CO2eq/year\n"
     ]
    },
    {
     "name": "stdout",
     "output_type": "stream",
     "text": [
      "\u001b[1m44/44\u001b[0m \u001b[32m━━━━━━━━━━━━━━━━━━━━\u001b[0m\u001b[37m\u001b[0m \u001b[1m3s\u001b[0m 76ms/step - loss: 0.0048 - mean_absolute_error: 0.0547\n",
      "Epoch 7/100\n",
      "\u001b[1m44/44\u001b[0m \u001b[32m━━━━━━━━━━━━━━━━━━━━\u001b[0m\u001b[37m\u001b[0m \u001b[1m3s\u001b[0m 71ms/step - loss: 0.0046 - mean_absolute_error: 0.0532\n",
      "Epoch 8/100\n",
      "\u001b[1m44/44\u001b[0m \u001b[32m━━━━━━━━━━━━━━━━━━━━\u001b[0m\u001b[37m\u001b[0m \u001b[1m3s\u001b[0m 75ms/step - loss: 0.0048 - mean_absolute_error: 0.0539\n",
      "Epoch 9/100\n",
      "\u001b[1m14/44\u001b[0m \u001b[32m━━━━━━\u001b[0m\u001b[37m━━━━━━━━━━━━━━\u001b[0m \u001b[1m2s\u001b[0m 69ms/step - loss: 0.0043 - mean_absolute_error: 0.0521"
     ]
    },
    {
     "name": "stderr",
     "output_type": "stream",
     "text": [
      "[codecarbon INFO @ 14:46:11] Energy consumed for RAM : 0.000583 kWh. RAM Power : 20.0 W\n",
      "[codecarbon INFO @ 14:46:11] Delta energy consumed for CPU with constant : 0.000467 kWh, power : 112.0 W\n"
     ]
    },
    {
     "name": "stdout",
     "output_type": "stream",
     "text": [
      "\u001b[1m15/44\u001b[0m \u001b[32m━━━━━━\u001b[0m\u001b[37m━━━━━━━━━━━━━━\u001b[0m \u001b[1m2s\u001b[0m 70ms/step - loss: 0.0043 - mean_absolute_error: 0.0521"
     ]
    },
    {
     "name": "stderr",
     "output_type": "stream",
     "text": [
      "[codecarbon INFO @ 14:46:11] Energy consumed for All CPU : 0.003268 kWh\n",
      "[codecarbon INFO @ 14:46:11] 0.003851 kWh of electricity used since the beginning.\n"
     ]
    },
    {
     "name": "stdout",
     "output_type": "stream",
     "text": [
      "\u001b[1m44/44\u001b[0m \u001b[32m━━━━━━━━━━━━━━━━━━━━\u001b[0m\u001b[37m\u001b[0m \u001b[1m3s\u001b[0m 70ms/step - loss: 0.0045 - mean_absolute_error: 0.0522\n",
      "Epoch 10/100\n",
      "\u001b[1m44/44\u001b[0m \u001b[32m━━━━━━━━━━━━━━━━━━━━\u001b[0m\u001b[37m\u001b[0m \u001b[1m0s\u001b[0m 69ms/step - loss: 0.0044 - mean_absolute_error: 0.0523"
     ]
    },
    {
     "name": "stderr",
     "output_type": "stream",
     "text": [
      "[codecarbon INFO @ 14:46:16] Energy consumed for RAM : 0.000749 kWh. RAM Power : 20.0 W\n",
      "[codecarbon INFO @ 14:46:16] Delta energy consumed for CPU with constant : 0.000466 kWh, power : 112.0 W\n",
      "[codecarbon INFO @ 14:46:16] Energy consumed for All CPU : 0.004201 kWh\n",
      "[codecarbon INFO @ 14:46:16] 0.004950 kWh of electricity used since the beginning.\n"
     ]
    },
    {
     "name": "stdout",
     "output_type": "stream",
     "text": [
      "\u001b[1m44/44\u001b[0m \u001b[32m━━━━━━━━━━━━━━━━━━━━\u001b[0m\u001b[37m\u001b[0m \u001b[1m3s\u001b[0m 71ms/step - loss: 0.0043 - mean_absolute_error: 0.0518\n",
      "Epoch 11/100\n",
      "\u001b[1m44/44\u001b[0m \u001b[32m━━━━━━━━━━━━━━━━━━━━\u001b[0m\u001b[37m\u001b[0m \u001b[1m3s\u001b[0m 73ms/step - loss: 0.0046 - mean_absolute_error: 0.0535\n",
      "Epoch 12/100\n",
      "\u001b[1m44/44\u001b[0m \u001b[32m━━━━━━━━━━━━━━━━━━━━\u001b[0m\u001b[37m\u001b[0m \u001b[1m3s\u001b[0m 72ms/step - loss: 0.0041 - mean_absolute_error: 0.0500\n",
      "Epoch 13/100\n",
      "\u001b[1m44/44\u001b[0m \u001b[32m━━━━━━━━━━━━━━━━━━━━\u001b[0m\u001b[37m\u001b[0m \u001b[1m3s\u001b[0m 71ms/step - loss: 0.0041 - mean_absolute_error: 0.0503\n",
      "Epoch 14/100\n"
     ]
    },
    {
     "name": "stderr",
     "output_type": "stream",
     "text": [
      "[codecarbon INFO @ 14:46:26] Energy consumed for RAM : 0.000666 kWh. RAM Power : 20.0 W\n",
      "[codecarbon INFO @ 14:46:26] Delta energy consumed for CPU with constant : 0.000467 kWh, power : 112.0 W\n",
      "[codecarbon INFO @ 14:46:26] Energy consumed for All CPU : 0.003734 kWh\n",
      "[codecarbon INFO @ 14:46:26] 0.004400 kWh of electricity used since the beginning.\n",
      "[codecarbon INFO @ 14:46:26] 0.005556 g.CO2eq/s mean an estimation of 175.2041503508902 kg.CO2eq/year\n"
     ]
    },
    {
     "name": "stdout",
     "output_type": "stream",
     "text": [
      "\u001b[1m44/44\u001b[0m \u001b[32m━━━━━━━━━━━━━━━━━━━━\u001b[0m\u001b[37m\u001b[0m \u001b[1m3s\u001b[0m 73ms/step - loss: 0.0040 - mean_absolute_error: 0.0494\n",
      "Epoch 15/100\n"
     ]
    },
    {
     "name": "stderr",
     "output_type": "stream",
     "text": [
      "[codecarbon INFO @ 14:46:31] Energy consumed for RAM : 0.000832 kWh. RAM Power : 20.0 W\n",
      "[codecarbon INFO @ 14:46:31] Delta energy consumed for CPU with constant : 0.000466 kWh, power : 112.0 W\n",
      "[codecarbon INFO @ 14:46:31] Energy consumed for All CPU : 0.004667 kWh\n",
      "[codecarbon INFO @ 14:46:31] 0.005499 kWh of electricity used since the beginning.\n"
     ]
    },
    {
     "name": "stdout",
     "output_type": "stream",
     "text": [
      "\u001b[1m44/44\u001b[0m \u001b[32m━━━━━━━━━━━━━━━━━━━━\u001b[0m\u001b[37m\u001b[0m \u001b[1m5s\u001b[0m 70ms/step - loss: 0.0039 - mean_absolute_error: 0.0488\n",
      "Epoch 16/100\n",
      "\u001b[1m44/44\u001b[0m \u001b[32m━━━━━━━━━━━━━━━━━━━━\u001b[0m\u001b[37m\u001b[0m \u001b[1m3s\u001b[0m 72ms/step - loss: 0.0041 - mean_absolute_error: 0.0501\n",
      "Epoch 17/100\n",
      "\u001b[1m44/44\u001b[0m \u001b[32m━━━━━━━━━━━━━━━━━━━━\u001b[0m\u001b[37m\u001b[0m \u001b[1m3s\u001b[0m 74ms/step - loss: 0.0037 - mean_absolute_error: 0.0476\n",
      "Epoch 18/100\n",
      "\u001b[1m 1/44\u001b[0m \u001b[37m━━━━━━━━━━━━━━━━━━━━\u001b[0m \u001b[1m5s\u001b[0m 136ms/step - loss: 0.0032 - mean_absolute_error: 0.0440"
     ]
    },
    {
     "name": "stderr",
     "output_type": "stream",
     "text": [
      "[codecarbon INFO @ 14:46:41] Energy consumed for RAM : 0.000749 kWh. RAM Power : 20.0 W\n",
      "[codecarbon INFO @ 14:46:41] Delta energy consumed for CPU with constant : 0.000467 kWh, power : 112.0 W\n",
      "[codecarbon INFO @ 14:46:41] Energy consumed for All CPU : 0.004201 kWh\n",
      "[codecarbon INFO @ 14:46:41] 0.004950 kWh of electricity used since the beginning.\n"
     ]
    },
    {
     "name": "stdout",
     "output_type": "stream",
     "text": [
      "\u001b[1m44/44\u001b[0m \u001b[32m━━━━━━━━━━━━━━━━━━━━\u001b[0m\u001b[37m\u001b[0m \u001b[1m3s\u001b[0m 71ms/step - loss: 0.0038 - mean_absolute_error: 0.0479\n",
      "Epoch 19/100\n",
      "\u001b[1m 1/44\u001b[0m \u001b[37m━━━━━━━━━━━━━━━━━━━━\u001b[0m \u001b[1m1:31\u001b[0m 2s/step - loss: 0.0035 - mean_absolute_error: 0.0464"
     ]
    },
    {
     "name": "stderr",
     "output_type": "stream",
     "text": [
      "[codecarbon INFO @ 14:46:46] Energy consumed for RAM : 0.000916 kWh. RAM Power : 20.0 W\n",
      "[codecarbon INFO @ 14:46:46] Delta energy consumed for CPU with constant : 0.000468 kWh, power : 112.0 W\n",
      "[codecarbon INFO @ 14:46:46] Energy consumed for All CPU : 0.005135 kWh\n",
      "[codecarbon INFO @ 14:46:46] 0.006051 kWh of electricity used since the beginning.\n"
     ]
    },
    {
     "name": "stdout",
     "output_type": "stream",
     "text": [
      "\u001b[1m44/44\u001b[0m \u001b[32m━━━━━━━━━━━━━━━━━━━━\u001b[0m\u001b[37m\u001b[0m \u001b[1m6s\u001b[0m 82ms/step - loss: 0.0040 - mean_absolute_error: 0.0493\n",
      "Epoch 20/100\n",
      "\u001b[1m44/44\u001b[0m \u001b[32m━━━━━━━━━━━━━━━━━━━━\u001b[0m\u001b[37m\u001b[0m \u001b[1m4s\u001b[0m 93ms/step - loss: 0.0035 - mean_absolute_error: 0.0463\n",
      "Epoch 21/100\n",
      "\u001b[1m10/44\u001b[0m \u001b[32m━━━━\u001b[0m\u001b[37m━━━━━━━━━━━━━━━━\u001b[0m \u001b[1m2s\u001b[0m 79ms/step - loss: 0.0033 - mean_absolute_error: 0.0439"
     ]
    },
    {
     "name": "stderr",
     "output_type": "stream",
     "text": [
      "[codecarbon INFO @ 14:46:56] Energy consumed for RAM : 0.000833 kWh. RAM Power : 20.0 W\n"
     ]
    },
    {
     "name": "stdout",
     "output_type": "stream",
     "text": [
      "\u001b[1m11/44\u001b[0m \u001b[32m━━━━━\u001b[0m\u001b[37m━━━━━━━━━━━━━━━\u001b[0m \u001b[1m2s\u001b[0m 80ms/step - loss: 0.0034 - mean_absolute_error: 0.0441"
     ]
    },
    {
     "name": "stderr",
     "output_type": "stream",
     "text": [
      "[codecarbon INFO @ 14:46:56] Delta energy consumed for CPU with constant : 0.000468 kWh, power : 112.0 W\n",
      "[codecarbon INFO @ 14:46:56] Energy consumed for All CPU : 0.004669 kWh\n",
      "[codecarbon INFO @ 14:46:56] 0.005502 kWh of electricity used since the beginning.\n"
     ]
    },
    {
     "name": "stdout",
     "output_type": "stream",
     "text": [
      "\u001b[1m44/44\u001b[0m \u001b[32m━━━━━━━━━━━━━━━━━━━━\u001b[0m\u001b[37m\u001b[0m \u001b[1m5s\u001b[0m 86ms/step - loss: 0.0034 - mean_absolute_error: 0.0456\n",
      "Epoch 22/100\n",
      "\u001b[1m27/44\u001b[0m \u001b[32m━━━━━━━━━━━━\u001b[0m\u001b[37m━━━━━━━━\u001b[0m \u001b[1m1s\u001b[0m 76ms/step - loss: 0.0034 - mean_absolute_error: 0.0451"
     ]
    },
    {
     "name": "stderr",
     "output_type": "stream",
     "text": [
      "[codecarbon INFO @ 14:47:01] Energy consumed for RAM : 0.000999 kWh. RAM Power : 20.0 W\n",
      "[codecarbon INFO @ 14:47:01] Delta energy consumed for CPU with constant : 0.000468 kWh, power : 112.0 W\n"
     ]
    },
    {
     "name": "stdout",
     "output_type": "stream",
     "text": [
      "\u001b[1m28/44\u001b[0m \u001b[32m━━━━━━━━━━━━\u001b[0m\u001b[37m━━━━━━━━\u001b[0m \u001b[1m1s\u001b[0m 77ms/step - loss: 0.0034 - mean_absolute_error: 0.0451"
     ]
    },
    {
     "name": "stderr",
     "output_type": "stream",
     "text": [
      "[codecarbon INFO @ 14:47:01] Energy consumed for All CPU : 0.005602 kWh\n",
      "[codecarbon INFO @ 14:47:01] 0.006601 kWh of electricity used since the beginning.\n"
     ]
    },
    {
     "name": "stdout",
     "output_type": "stream",
     "text": [
      "\u001b[1m44/44\u001b[0m \u001b[32m━━━━━━━━━━━━━━━━━━━━\u001b[0m\u001b[37m\u001b[0m \u001b[1m4s\u001b[0m 81ms/step - loss: 0.0034 - mean_absolute_error: 0.0458\n",
      "Epoch 23/100\n",
      "\u001b[1m44/44\u001b[0m \u001b[32m━━━━━━━━━━━━━━━━━━━━\u001b[0m\u001b[37m\u001b[0m \u001b[1m4s\u001b[0m 87ms/step - loss: 0.0034 - mean_absolute_error: 0.0459\n",
      "Epoch 24/100\n",
      "\u001b[1m44/44\u001b[0m \u001b[32m━━━━━━━━━━━━━━━━━━━━\u001b[0m\u001b[37m\u001b[0m \u001b[1m4s\u001b[0m 79ms/step - loss: 0.0031 - mean_absolute_error: 0.0433\n",
      "Epoch 25/100\n",
      "\u001b[1m 9/44\u001b[0m \u001b[32m━━━━\u001b[0m\u001b[37m━━━━━━━━━━━━━━━━\u001b[0m \u001b[1m2s\u001b[0m 75ms/step - loss: 0.0030 - mean_absolute_error: 0.0435"
     ]
    },
    {
     "name": "stderr",
     "output_type": "stream",
     "text": [
      "[codecarbon INFO @ 14:47:11] Energy consumed for RAM : 0.000916 kWh. RAM Power : 20.0 W\n",
      "[codecarbon INFO @ 14:47:11] Delta energy consumed for CPU with constant : 0.000467 kWh, power : 112.0 W\n"
     ]
    },
    {
     "name": "stdout",
     "output_type": "stream",
     "text": [
      "\u001b[1m10/44\u001b[0m \u001b[32m━━━━\u001b[0m\u001b[37m━━━━━━━━━━━━━━━━\u001b[0m \u001b[1m2s\u001b[0m 76ms/step - loss: 0.0030 - mean_absolute_error: 0.0436"
     ]
    },
    {
     "name": "stderr",
     "output_type": "stream",
     "text": [
      "[codecarbon INFO @ 14:47:11] Energy consumed for All CPU : 0.005136 kWh\n",
      "[codecarbon INFO @ 14:47:11] 0.006052 kWh of electricity used since the beginning.\n"
     ]
    },
    {
     "name": "stdout",
     "output_type": "stream",
     "text": [
      "\u001b[1m44/44\u001b[0m \u001b[32m━━━━━━━━━━━━━━━━━━━━\u001b[0m\u001b[37m\u001b[0m \u001b[1m3s\u001b[0m 77ms/step - loss: 0.0032 - mean_absolute_error: 0.0439\n",
      "Epoch 26/100\n",
      "\u001b[1m32/44\u001b[0m \u001b[32m━━━━━━━━━━━━━━\u001b[0m\u001b[37m━━━━━━\u001b[0m \u001b[1m0s\u001b[0m 76ms/step - loss: 0.0037 - mean_absolute_error: 0.0475"
     ]
    },
    {
     "name": "stderr",
     "output_type": "stream",
     "text": [
      "[codecarbon INFO @ 14:47:16] Energy consumed for RAM : 0.001082 kWh. RAM Power : 20.0 W\n",
      "[codecarbon INFO @ 14:47:16] Delta energy consumed for CPU with constant : 0.000467 kWh, power : 112.0 W\n",
      "[codecarbon INFO @ 14:47:16] Energy consumed for All CPU : 0.006069 kWh\n",
      "[codecarbon INFO @ 14:47:16] 0.007151 kWh of electricity used since the beginning.\n"
     ]
    },
    {
     "name": "stdout",
     "output_type": "stream",
     "text": [
      "\u001b[1m44/44\u001b[0m \u001b[32m━━━━━━━━━━━━━━━━━━━━\u001b[0m\u001b[37m\u001b[0m \u001b[1m4s\u001b[0m 80ms/step - loss: 0.0033 - mean_absolute_error: 0.0451\n",
      "Epoch 27/100\n",
      "\u001b[1m44/44\u001b[0m \u001b[32m━━━━━━━━━━━━━━━━━━━━\u001b[0m\u001b[37m\u001b[0m \u001b[1m5s\u001b[0m 70ms/step - loss: 0.0030 - mean_absolute_error: 0.0427\n",
      "Epoch 28/100\n",
      "\u001b[1m44/44\u001b[0m \u001b[32m━━━━━━━━━━━━━━━━━━━━\u001b[0m\u001b[37m\u001b[0m \u001b[1m3s\u001b[0m 71ms/step - loss: 0.0032 - mean_absolute_error: 0.0444\n",
      "Epoch 29/100\n",
      "\u001b[1m 9/44\u001b[0m \u001b[32m━━━━\u001b[0m\u001b[37m━━━━━━━━━━━━━━━━\u001b[0m \u001b[1m2s\u001b[0m 69ms/step - loss: 0.0032 - mean_absolute_error: 0.0438"
     ]
    },
    {
     "name": "stderr",
     "output_type": "stream",
     "text": [
      "[codecarbon INFO @ 14:47:26] Energy consumed for RAM : 0.000999 kWh. RAM Power : 20.0 W\n",
      "[codecarbon INFO @ 14:47:26] Delta energy consumed for CPU with constant : 0.000466 kWh, power : 112.0 W\n",
      "[codecarbon INFO @ 14:47:26] Energy consumed for All CPU : 0.005602 kWh\n",
      "[codecarbon INFO @ 14:47:26] 0.006601 kWh of electricity used since the beginning.\n"
     ]
    },
    {
     "name": "stdout",
     "output_type": "stream",
     "text": [
      "\u001b[1m44/44\u001b[0m \u001b[32m━━━━━━━━━━━━━━━━━━━━\u001b[0m\u001b[37m\u001b[0m \u001b[1m3s\u001b[0m 72ms/step - loss: 0.0030 - mean_absolute_error: 0.0426\n",
      "Epoch 30/100\n",
      "\u001b[1m38/44\u001b[0m \u001b[32m━━━━━━━━━━━━━━━━━\u001b[0m\u001b[37m━━━\u001b[0m \u001b[1m0s\u001b[0m 68ms/step - loss: 0.0033 - mean_absolute_error: 0.0449"
     ]
    },
    {
     "name": "stderr",
     "output_type": "stream",
     "text": [
      "[codecarbon INFO @ 14:47:31] Energy consumed for RAM : 0.001165 kWh. RAM Power : 20.0 W\n",
      "[codecarbon INFO @ 14:47:31] Delta energy consumed for CPU with constant : 0.000467 kWh, power : 112.0 W\n",
      "[codecarbon INFO @ 14:47:31] Energy consumed for All CPU : 0.006536 kWh\n",
      "[codecarbon INFO @ 14:47:31] 0.007701 kWh of electricity used since the beginning.\n"
     ]
    },
    {
     "name": "stdout",
     "output_type": "stream",
     "text": [
      "\u001b[1m44/44\u001b[0m \u001b[32m━━━━━━━━━━━━━━━━━━━━\u001b[0m\u001b[37m\u001b[0m \u001b[1m3s\u001b[0m 69ms/step - loss: 0.0030 - mean_absolute_error: 0.0425\n",
      "Epoch 31/100\n",
      "\u001b[1m44/44\u001b[0m \u001b[32m━━━━━━━━━━━━━━━━━━━━\u001b[0m\u001b[37m\u001b[0m \u001b[1m3s\u001b[0m 72ms/step - loss: 0.0029 - mean_absolute_error: 0.0410\n",
      "Epoch 32/100\n",
      "\u001b[1m44/44\u001b[0m \u001b[32m━━━━━━━━━━━━━━━━━━━━\u001b[0m\u001b[37m\u001b[0m \u001b[1m4s\u001b[0m 90ms/step - loss: 0.0028 - mean_absolute_error: 0.0406\n",
      "Epoch 33/100\n",
      "\u001b[1m26/44\u001b[0m \u001b[32m━━━━━━━━━━━\u001b[0m\u001b[37m━━━━━━━━━\u001b[0m \u001b[1m1s\u001b[0m 76ms/step - loss: 0.0025 - mean_absolute_error: 0.0397"
     ]
    },
    {
     "name": "stderr",
     "output_type": "stream",
     "text": [
      "[codecarbon INFO @ 14:47:41] Energy consumed for RAM : 0.001082 kWh. RAM Power : 20.0 W\n",
      "[codecarbon INFO @ 14:47:41] Delta energy consumed for CPU with constant : 0.000467 kWh, power : 112.0 W\n",
      "[codecarbon INFO @ 14:47:41] Energy consumed for All CPU : 0.006069 kWh\n",
      "[codecarbon INFO @ 14:47:41] 0.007151 kWh of electricity used since the beginning.\n"
     ]
    },
    {
     "name": "stdout",
     "output_type": "stream",
     "text": [
      "\u001b[1m44/44\u001b[0m \u001b[32m━━━━━━━━━━━━━━━━━━━━\u001b[0m\u001b[37m\u001b[0m \u001b[1m3s\u001b[0m 76ms/step - loss: 0.0027 - mean_absolute_error: 0.0400\n",
      "Epoch 34/100\n",
      "\u001b[1m44/44\u001b[0m \u001b[32m━━━━━━━━━━━━━━━━━━━━\u001b[0m\u001b[37m\u001b[0m \u001b[1m3s\u001b[0m 75ms/step - loss: 0.0027 - mean_absolute_error: 0.0401\n",
      "Epoch 35/100\n",
      "\u001b[1m 5/44\u001b[0m \u001b[32m━━\u001b[0m\u001b[37m━━━━━━━━━━━━━━━━━━\u001b[0m \u001b[1m2s\u001b[0m 71ms/step - loss: 0.0025 - mean_absolute_error: 0.0382"
     ]
    },
    {
     "name": "stderr",
     "output_type": "stream",
     "text": [
      "[codecarbon INFO @ 14:47:46] Energy consumed for RAM : 0.001248 kWh. RAM Power : 20.0 W\n",
      "[codecarbon INFO @ 14:47:46] Delta energy consumed for CPU with constant : 0.000467 kWh, power : 112.0 W\n"
     ]
    },
    {
     "name": "stdout",
     "output_type": "stream",
     "text": [
      "\u001b[1m 6/44\u001b[0m \u001b[32m━━\u001b[0m\u001b[37m━━━━━━━━━━━━━━━━━━\u001b[0m \u001b[1m2s\u001b[0m 72ms/step - loss: 0.0025 - mean_absolute_error: 0.0382"
     ]
    },
    {
     "name": "stderr",
     "output_type": "stream",
     "text": [
      "[codecarbon INFO @ 14:47:46] Energy consumed for All CPU : 0.007003 kWh\n",
      "[codecarbon INFO @ 14:47:46] 0.008251 kWh of electricity used since the beginning.\n"
     ]
    },
    {
     "name": "stdout",
     "output_type": "stream",
     "text": [
      "\u001b[1m44/44\u001b[0m \u001b[32m━━━━━━━━━━━━━━━━━━━━\u001b[0m\u001b[37m\u001b[0m \u001b[1m3s\u001b[0m 73ms/step - loss: 0.0027 - mean_absolute_error: 0.0404\n",
      "Epoch 36/100\n",
      "\u001b[1m44/44\u001b[0m \u001b[32m━━━━━━━━━━━━━━━━━━━━\u001b[0m\u001b[37m\u001b[0m \u001b[1m5s\u001b[0m 71ms/step - loss: 0.0026 - mean_absolute_error: 0.0389\n",
      "Epoch 37/100\n",
      "\u001b[1m26/44\u001b[0m \u001b[32m━━━━━━━━━━━\u001b[0m\u001b[37m━━━━━━━━━\u001b[0m \u001b[1m1s\u001b[0m 72ms/step - loss: 0.0023 - mean_absolute_error: 0.0361"
     ]
    },
    {
     "name": "stderr",
     "output_type": "stream",
     "text": [
      "[codecarbon INFO @ 14:47:56] Energy consumed for RAM : 0.001165 kWh. RAM Power : 20.0 W\n",
      "[codecarbon INFO @ 14:47:56] Delta energy consumed for CPU with constant : 0.000467 kWh, power : 112.0 W\n",
      "[codecarbon INFO @ 14:47:56] Energy consumed for All CPU : 0.006536 kWh\n",
      "[codecarbon INFO @ 14:47:56] 0.007701 kWh of electricity used since the beginning.\n"
     ]
    },
    {
     "name": "stdout",
     "output_type": "stream",
     "text": [
      "\u001b[1m44/44\u001b[0m \u001b[32m━━━━━━━━━━━━━━━━━━━━\u001b[0m\u001b[37m\u001b[0m \u001b[1m3s\u001b[0m 72ms/step - loss: 0.0025 - mean_absolute_error: 0.0384\n",
      "Epoch 38/100\n",
      "\u001b[1m44/44\u001b[0m \u001b[32m━━━━━━━━━━━━━━━━━━━━\u001b[0m\u001b[37m\u001b[0m \u001b[1m3s\u001b[0m 72ms/step - loss: 0.0027 - mean_absolute_error: 0.0400\n",
      "Epoch 39/100\n",
      "\u001b[1m 8/44\u001b[0m \u001b[32m━━━\u001b[0m\u001b[37m━━━━━━━━━━━━━━━━━\u001b[0m \u001b[1m2s\u001b[0m 70ms/step - loss: 0.0020 - mean_absolute_error: 0.0360"
     ]
    },
    {
     "name": "stderr",
     "output_type": "stream",
     "text": [
      "[codecarbon INFO @ 14:48:01] Energy consumed for RAM : 0.001332 kWh. RAM Power : 20.0 W\n",
      "[codecarbon INFO @ 14:48:01] Delta energy consumed for CPU with constant : 0.000467 kWh, power : 112.0 W\n",
      "[codecarbon INFO @ 14:48:01] Energy consumed for All CPU : 0.007469 kWh\n",
      "[codecarbon INFO @ 14:48:01] 0.008801 kWh of electricity used since the beginning.\n",
      "[codecarbon INFO @ 14:48:01] 0.005555 g.CO2eq/s mean an estimation of 175.1803437205403 kg.CO2eq/year\n"
     ]
    },
    {
     "name": "stdout",
     "output_type": "stream",
     "text": [
      "\u001b[1m44/44\u001b[0m \u001b[32m━━━━━━━━━━━━━━━━━━━━\u001b[0m\u001b[37m\u001b[0m \u001b[1m3s\u001b[0m 72ms/step - loss: 0.0027 - mean_absolute_error: 0.0402\n",
      "Epoch 40/100\n",
      "\u001b[1m44/44\u001b[0m \u001b[32m━━━━━━━━━━━━━━━━━━━━\u001b[0m\u001b[37m\u001b[0m \u001b[1m3s\u001b[0m 70ms/step - loss: 0.0026 - mean_absolute_error: 0.0387\n",
      "Epoch 41/100\n",
      "\u001b[1m44/44\u001b[0m \u001b[32m━━━━━━━━━━━━━━━━━━━━\u001b[0m\u001b[37m\u001b[0m \u001b[1m3s\u001b[0m 70ms/step - loss: 0.0025 - mean_absolute_error: 0.0387\n",
      "Epoch 42/100\n",
      "\u001b[1m13/44\u001b[0m \u001b[32m━━━━━\u001b[0m\u001b[37m━━━━━━━━━━━━━━━\u001b[0m \u001b[1m2s\u001b[0m 69ms/step - loss: 0.0023 - mean_absolute_error: 0.0362"
     ]
    },
    {
     "name": "stderr",
     "output_type": "stream",
     "text": [
      "[codecarbon INFO @ 14:48:11] Energy consumed for RAM : 0.001248 kWh. RAM Power : 20.0 W\n",
      "[codecarbon INFO @ 14:48:11] Delta energy consumed for CPU with constant : 0.000467 kWh, power : 112.0 W\n"
     ]
    },
    {
     "name": "stdout",
     "output_type": "stream",
     "text": [
      "\u001b[1m14/44\u001b[0m \u001b[32m━━━━━━\u001b[0m\u001b[37m━━━━━━━━━━━━━━\u001b[0m \u001b[1m2s\u001b[0m 70ms/step - loss: 0.0024 - mean_absolute_error: 0.0363"
     ]
    },
    {
     "name": "stderr",
     "output_type": "stream",
     "text": [
      "[codecarbon INFO @ 14:48:11] Energy consumed for All CPU : 0.007003 kWh\n",
      "[codecarbon INFO @ 14:48:11] 0.008252 kWh of electricity used since the beginning.\n"
     ]
    },
    {
     "name": "stdout",
     "output_type": "stream",
     "text": [
      "\u001b[1m44/44\u001b[0m \u001b[32m━━━━━━━━━━━━━━━━━━━━\u001b[0m\u001b[37m\u001b[0m \u001b[1m3s\u001b[0m 73ms/step - loss: 0.0025 - mean_absolute_error: 0.0381\n",
      "Epoch 43/100\n",
      "\u001b[1m40/44\u001b[0m \u001b[32m━━━━━━━━━━━━━━━━━━\u001b[0m\u001b[37m━━\u001b[0m \u001b[1m0s\u001b[0m 71ms/step - loss: 0.0027 - mean_absolute_error: 0.0388"
     ]
    },
    {
     "name": "stderr",
     "output_type": "stream",
     "text": [
      "[codecarbon INFO @ 14:48:16] Energy consumed for RAM : 0.001415 kWh. RAM Power : 20.0 W\n",
      "[codecarbon INFO @ 14:48:16] Delta energy consumed for CPU with constant : 0.000467 kWh, power : 112.0 W\n",
      "[codecarbon INFO @ 14:48:16] Energy consumed for All CPU : 0.007936 kWh\n",
      "[codecarbon INFO @ 14:48:16] 0.009351 kWh of electricity used since the beginning.\n"
     ]
    },
    {
     "name": "stdout",
     "output_type": "stream",
     "text": [
      "\u001b[1m44/44\u001b[0m \u001b[32m━━━━━━━━━━━━━━━━━━━━\u001b[0m\u001b[37m\u001b[0m \u001b[1m3s\u001b[0m 72ms/step - loss: 0.0025 - mean_absolute_error: 0.0381\n",
      "Epoch 44/100\n",
      "\u001b[1m44/44\u001b[0m \u001b[32m━━━━━━━━━━━━━━━━━━━━\u001b[0m\u001b[37m\u001b[0m \u001b[1m3s\u001b[0m 71ms/step - loss: 0.0027 - mean_absolute_error: 0.0400\n",
      "Epoch 45/100\n",
      "\u001b[1m44/44\u001b[0m \u001b[32m━━━━━━━━━━━━━━━━━━━━\u001b[0m\u001b[37m\u001b[0m \u001b[1m3s\u001b[0m 75ms/step - loss: 0.0026 - mean_absolute_error: 0.0389\n",
      "Epoch 46/100\n",
      "\u001b[1m40/44\u001b[0m \u001b[32m━━━━━━━━━━━━━━━━━━\u001b[0m\u001b[37m━━\u001b[0m \u001b[1m0s\u001b[0m 71ms/step - loss: 0.0027 - mean_absolute_error: 0.0410"
     ]
    },
    {
     "name": "stderr",
     "output_type": "stream",
     "text": [
      "[codecarbon INFO @ 14:48:26] Energy consumed for RAM : 0.001332 kWh. RAM Power : 20.0 W\n",
      "[codecarbon INFO @ 14:48:26] Delta energy consumed for CPU with constant : 0.000466 kWh, power : 112.0 W\n",
      "[codecarbon INFO @ 14:48:26] Energy consumed for All CPU : 0.007469 kWh\n",
      "[codecarbon INFO @ 14:48:26] 0.008801 kWh of electricity used since the beginning.\n",
      "[codecarbon INFO @ 14:48:26] 0.005555 g.CO2eq/s mean an estimation of 175.17846824706425 kg.CO2eq/year\n"
     ]
    },
    {
     "name": "stdout",
     "output_type": "stream",
     "text": [
      "\u001b[1m44/44\u001b[0m \u001b[32m━━━━━━━━━━━━━━━━━━━━\u001b[0m\u001b[37m\u001b[0m \u001b[1m3s\u001b[0m 72ms/step - loss: 0.0028 - mean_absolute_error: 0.0411\n",
      "Epoch 47/100\n",
      "\u001b[1m44/44\u001b[0m \u001b[32m━━━━━━━━━━━━━━━━━━━━\u001b[0m\u001b[37m\u001b[0m \u001b[1m3s\u001b[0m 70ms/step - loss: 0.0026 - mean_absolute_error: 0.0389\n",
      "Epoch 48/100\n"
     ]
    },
    {
     "name": "stderr",
     "output_type": "stream",
     "text": [
      "[codecarbon INFO @ 14:48:31] Energy consumed for RAM : 0.001498 kWh. RAM Power : 20.0 W\n",
      "[codecarbon INFO @ 14:48:31] Delta energy consumed for CPU with constant : 0.000466 kWh, power : 112.0 W\n",
      "[codecarbon INFO @ 14:48:31] Energy consumed for All CPU : 0.008403 kWh\n",
      "[codecarbon INFO @ 14:48:31] 0.009901 kWh of electricity used since the beginning.\n"
     ]
    },
    {
     "name": "stdout",
     "output_type": "stream",
     "text": [
      "\u001b[1m44/44\u001b[0m \u001b[32m━━━━━━━━━━━━━━━━━━━━\u001b[0m\u001b[37m\u001b[0m \u001b[1m5s\u001b[0m 73ms/step - loss: 0.0026 - mean_absolute_error: 0.0391\n",
      "Epoch 49/100\n",
      "\u001b[1m44/44\u001b[0m \u001b[32m━━━━━━━━━━━━━━━━━━━━\u001b[0m\u001b[37m\u001b[0m \u001b[1m3s\u001b[0m 70ms/step - loss: 0.0025 - mean_absolute_error: 0.0381\n",
      "Epoch 50/100\n",
      "\u001b[1m43/44\u001b[0m \u001b[32m━━━━━━━━━━━━━━━━━━━\u001b[0m\u001b[37m━\u001b[0m \u001b[1m0s\u001b[0m 70ms/step - loss: 0.0024 - mean_absolute_error: 0.0381"
     ]
    },
    {
     "name": "stderr",
     "output_type": "stream",
     "text": [
      "[codecarbon INFO @ 14:48:41] Energy consumed for RAM : 0.001415 kWh. RAM Power : 20.0 W\n",
      "[codecarbon INFO @ 14:48:41] Delta energy consumed for CPU with constant : 0.000467 kWh, power : 112.0 W\n"
     ]
    },
    {
     "name": "stdout",
     "output_type": "stream",
     "text": [
      "\u001b[1m44/44\u001b[0m \u001b[32m━━━━━━━━━━━━━━━━━━━━\u001b[0m\u001b[37m\u001b[0m \u001b[1m0s\u001b[0m 70ms/step - loss: 0.0024 - mean_absolute_error: 0.0381"
     ]
    },
    {
     "name": "stderr",
     "output_type": "stream",
     "text": [
      "[codecarbon INFO @ 14:48:41] Energy consumed for All CPU : 0.007936 kWh\n",
      "[codecarbon INFO @ 14:48:41] 0.009350 kWh of electricity used since the beginning.\n"
     ]
    },
    {
     "name": "stdout",
     "output_type": "stream",
     "text": [
      "\u001b[1m44/44\u001b[0m \u001b[32m━━━━━━━━━━━━━━━━━━━━\u001b[0m\u001b[37m\u001b[0m \u001b[1m3s\u001b[0m 71ms/step - loss: 0.0026 - mean_absolute_error: 0.0387\n",
      "Epoch 51/100\n",
      "\u001b[1m43/44\u001b[0m \u001b[32m━━━━━━━━━━━━━━━━━━━\u001b[0m\u001b[37m━\u001b[0m \u001b[1m0s\u001b[0m 71ms/step - loss: 0.0025 - mean_absolute_error: 0.0387"
     ]
    },
    {
     "name": "stderr",
     "output_type": "stream",
     "text": [
      "[codecarbon INFO @ 14:48:46] Energy consumed for RAM : 0.001581 kWh. RAM Power : 20.0 W\n"
     ]
    },
    {
     "name": "stdout",
     "output_type": "stream",
     "text": [
      "\u001b[1m44/44\u001b[0m \u001b[32m━━━━━━━━━━━━━━━━━━━━\u001b[0m\u001b[37m\u001b[0m \u001b[1m0s\u001b[0m 71ms/step - loss: 0.0025 - mean_absolute_error: 0.0387"
     ]
    },
    {
     "name": "stderr",
     "output_type": "stream",
     "text": [
      "[codecarbon INFO @ 14:48:46] Delta energy consumed for CPU with constant : 0.000467 kWh, power : 112.0 W\n",
      "[codecarbon INFO @ 14:48:46] Energy consumed for All CPU : 0.008869 kWh\n",
      "[codecarbon INFO @ 14:48:46] 0.010451 kWh of electricity used since the beginning.\n"
     ]
    },
    {
     "name": "stdout",
     "output_type": "stream",
     "text": [
      "\u001b[1m44/44\u001b[0m \u001b[32m━━━━━━━━━━━━━━━━━━━━\u001b[0m\u001b[37m\u001b[0m \u001b[1m5s\u001b[0m 73ms/step - loss: 0.0025 - mean_absolute_error: 0.0379\n",
      "Epoch 52/100\n",
      "\u001b[1m44/44\u001b[0m \u001b[32m━━━━━━━━━━━━━━━━━━━━\u001b[0m\u001b[37m\u001b[0m \u001b[1m3s\u001b[0m 69ms/step - loss: 0.0025 - mean_absolute_error: 0.0382\n",
      "Epoch 53/100\n",
      "\u001b[1m44/44\u001b[0m \u001b[32m━━━━━━━━━━━━━━━━━━━━\u001b[0m\u001b[37m\u001b[0m \u001b[1m3s\u001b[0m 75ms/step - loss: 0.0027 - mean_absolute_error: 0.0401\n",
      "Epoch 54/100\n",
      "\u001b[1m19/44\u001b[0m \u001b[32m━━━━━━━━\u001b[0m\u001b[37m━━━━━━━━━━━━\u001b[0m \u001b[1m1s\u001b[0m 68ms/step - loss: 0.0029 - mean_absolute_error: 0.0407"
     ]
    },
    {
     "name": "stderr",
     "output_type": "stream",
     "text": [
      "[codecarbon INFO @ 14:48:56] Energy consumed for RAM : 0.001498 kWh. RAM Power : 20.0 W\n",
      "[codecarbon INFO @ 14:48:56] Delta energy consumed for CPU with constant : 0.000467 kWh, power : 112.0 W\n",
      "[codecarbon INFO @ 14:48:56] Energy consumed for All CPU : 0.008403 kWh\n"
     ]
    },
    {
     "name": "stdout",
     "output_type": "stream",
     "text": [
      "\u001b[1m20/44\u001b[0m \u001b[32m━━━━━━━━━\u001b[0m\u001b[37m━━━━━━━━━━━\u001b[0m \u001b[1m1s\u001b[0m 68ms/step - loss: 0.0029 - mean_absolute_error: 0.0406"
     ]
    },
    {
     "name": "stderr",
     "output_type": "stream",
     "text": [
      "[codecarbon INFO @ 14:48:56] 0.009901 kWh of electricity used since the beginning.\n"
     ]
    },
    {
     "name": "stdout",
     "output_type": "stream",
     "text": [
      "\u001b[1m44/44\u001b[0m \u001b[32m━━━━━━━━━━━━━━━━━━━━\u001b[0m\u001b[37m\u001b[0m \u001b[1m5s\u001b[0m 70ms/step - loss: 0.0025 - mean_absolute_error: 0.0381\n",
      "Epoch 55/100\n",
      "\u001b[1m44/44\u001b[0m \u001b[32m━━━━━━━━━━━━━━━━━━━━\u001b[0m\u001b[37m\u001b[0m \u001b[1m3s\u001b[0m 71ms/step - loss: 0.0024 - mean_absolute_error: 0.0376\n",
      "Epoch 56/100\n",
      "\u001b[1m 5/44\u001b[0m \u001b[32m━━\u001b[0m\u001b[37m━━━━━━━━━━━━━━━━━━\u001b[0m \u001b[1m3s\u001b[0m 78ms/step - loss: 0.0025 - mean_absolute_error: 0.0358"
     ]
    },
    {
     "name": "stderr",
     "output_type": "stream",
     "text": [
      "[codecarbon INFO @ 14:49:01] Energy consumed for RAM : 0.001666 kWh. RAM Power : 20.0 W\n",
      "[codecarbon INFO @ 14:49:01] Delta energy consumed for CPU with constant : 0.000474 kWh, power : 112.0 W\n",
      "[codecarbon INFO @ 14:49:01] Energy consumed for All CPU : 0.009343 kWh\n",
      "[codecarbon INFO @ 14:49:01] 0.011009 kWh of electricity used since the beginning.\n"
     ]
    },
    {
     "name": "stdout",
     "output_type": "stream",
     "text": [
      "\u001b[1m44/44\u001b[0m \u001b[32m━━━━━━━━━━━━━━━━━━━━\u001b[0m\u001b[37m\u001b[0m \u001b[1m3s\u001b[0m 72ms/step - loss: 0.0024 - mean_absolute_error: 0.0370\n",
      "Epoch 57/100\n",
      "\u001b[1m44/44\u001b[0m \u001b[32m━━━━━━━━━━━━━━━━━━━━\u001b[0m\u001b[37m\u001b[0m \u001b[1m3s\u001b[0m 69ms/step - loss: 0.0026 - mean_absolute_error: 0.0391\n",
      "Epoch 58/100\n",
      "\u001b[1m44/44\u001b[0m \u001b[32m━━━━━━━━━━━━━━━━━━━━\u001b[0m\u001b[37m\u001b[0m \u001b[1m3s\u001b[0m 70ms/step - loss: 0.0025 - mean_absolute_error: 0.0386\n",
      "Epoch 59/100\n",
      "\u001b[1m10/44\u001b[0m \u001b[32m━━━━\u001b[0m\u001b[37m━━━━━━━━━━━━━━━━\u001b[0m \u001b[1m2s\u001b[0m 75ms/step - loss: 0.0022 - mean_absolute_error: 0.0362"
     ]
    },
    {
     "name": "stderr",
     "output_type": "stream",
     "text": [
      "[codecarbon INFO @ 14:49:11] Energy consumed for RAM : 0.001582 kWh. RAM Power : 20.0 W\n",
      "[codecarbon INFO @ 14:49:11] Delta energy consumed for CPU with constant : 0.000472 kWh, power : 112.0 W\n",
      "[codecarbon INFO @ 14:49:11] Energy consumed for All CPU : 0.008875 kWh\n",
      "[codecarbon INFO @ 14:49:11] 0.010457 kWh of electricity used since the beginning.\n"
     ]
    },
    {
     "name": "stdout",
     "output_type": "stream",
     "text": [
      "\u001b[1m44/44\u001b[0m \u001b[32m━━━━━━━━━━━━━━━━━━━━\u001b[0m\u001b[37m\u001b[0m \u001b[1m3s\u001b[0m 72ms/step - loss: 0.0025 - mean_absolute_error: 0.0379\n",
      "Epoch 60/100\n",
      "\u001b[1m40/44\u001b[0m \u001b[32m━━━━━━━━━━━━━━━━━━\u001b[0m\u001b[37m━━\u001b[0m \u001b[1m0s\u001b[0m 68ms/step - loss: 0.0026 - mean_absolute_error: 0.0400"
     ]
    },
    {
     "name": "stderr",
     "output_type": "stream",
     "text": [
      "[codecarbon INFO @ 14:49:16] Energy consumed for RAM : 0.001749 kWh. RAM Power : 20.0 W\n",
      "[codecarbon INFO @ 14:49:16] Delta energy consumed for CPU with constant : 0.000466 kWh, power : 112.0 W\n",
      "[codecarbon INFO @ 14:49:16] Energy consumed for All CPU : 0.009810 kWh\n",
      "[codecarbon INFO @ 14:49:16] 0.011558 kWh of electricity used since the beginning.\n"
     ]
    },
    {
     "name": "stdout",
     "output_type": "stream",
     "text": [
      "\u001b[1m44/44\u001b[0m \u001b[32m━━━━━━━━━━━━━━━━━━━━\u001b[0m\u001b[37m\u001b[0m \u001b[1m3s\u001b[0m 69ms/step - loss: 0.0027 - mean_absolute_error: 0.0405\n",
      "Epoch 61/100\n",
      "\u001b[1m44/44\u001b[0m \u001b[32m━━━━━━━━━━━━━━━━━━━━\u001b[0m\u001b[37m\u001b[0m \u001b[1m5s\u001b[0m 74ms/step - loss: 0.0025 - mean_absolute_error: 0.0382\n",
      "Epoch 62/100\n",
      "\u001b[1m44/44\u001b[0m \u001b[32m━━━━━━━━━━━━━━━━━━━━\u001b[0m\u001b[37m\u001b[0m \u001b[1m3s\u001b[0m 70ms/step - loss: 0.0024 - mean_absolute_error: 0.0372\n",
      "Epoch 63/100\n",
      "\u001b[1m14/44\u001b[0m \u001b[32m━━━━━━\u001b[0m\u001b[37m━━━━━━━━━━━━━━\u001b[0m \u001b[1m2s\u001b[0m 69ms/step - loss: 0.0022 - mean_absolute_error: 0.0354"
     ]
    },
    {
     "name": "stderr",
     "output_type": "stream",
     "text": [
      "[codecarbon INFO @ 14:49:26] Energy consumed for RAM : 0.001665 kWh. RAM Power : 20.0 W\n",
      "[codecarbon INFO @ 14:49:26] Delta energy consumed for CPU with constant : 0.000467 kWh, power : 112.0 W\n",
      "[codecarbon INFO @ 14:49:26] Energy consumed for All CPU : 0.009342 kWh\n",
      "[codecarbon INFO @ 14:49:26] 0.011007 kWh of electricity used since the beginning.\n"
     ]
    },
    {
     "name": "stdout",
     "output_type": "stream",
     "text": [
      "\u001b[1m44/44\u001b[0m \u001b[32m━━━━━━━━━━━━━━━━━━━━\u001b[0m\u001b[37m\u001b[0m \u001b[1m3s\u001b[0m 71ms/step - loss: 0.0024 - mean_absolute_error: 0.0376\n",
      "Epoch 64/100\n",
      "\u001b[1m15/44\u001b[0m \u001b[32m━━━━━━\u001b[0m\u001b[37m━━━━━━━━━━━━━━\u001b[0m \u001b[1m2s\u001b[0m 69ms/step - loss: 0.0025 - mean_absolute_error: 0.0373"
     ]
    },
    {
     "name": "stderr",
     "output_type": "stream",
     "text": [
      "[codecarbon INFO @ 14:49:31] Energy consumed for RAM : 0.001832 kWh. RAM Power : 20.0 W\n",
      "[codecarbon INFO @ 14:49:31] Delta energy consumed for CPU with constant : 0.000467 kWh, power : 112.0 W\n",
      "[codecarbon INFO @ 14:49:31] Energy consumed for All CPU : 0.010276 kWh\n",
      "[codecarbon INFO @ 14:49:31] 0.012108 kWh of electricity used since the beginning.\n"
     ]
    },
    {
     "name": "stdout",
     "output_type": "stream",
     "text": [
      "\u001b[1m44/44\u001b[0m \u001b[32m━━━━━━━━━━━━━━━━━━━━\u001b[0m\u001b[37m\u001b[0m \u001b[1m5s\u001b[0m 73ms/step - loss: 0.0024 - mean_absolute_error: 0.0374\n",
      "Epoch 65/100\n",
      "\u001b[1m44/44\u001b[0m \u001b[32m━━━━━━━━━━━━━━━━━━━━\u001b[0m\u001b[37m\u001b[0m \u001b[1m3s\u001b[0m 71ms/step - loss: 0.0026 - mean_absolute_error: 0.0388\n",
      "Epoch 66/100\n",
      "\u001b[1m44/44\u001b[0m \u001b[32m━━━━━━━━━━━━━━━━━━━━\u001b[0m\u001b[37m\u001b[0m \u001b[1m3s\u001b[0m 70ms/step - loss: 0.0024 - mean_absolute_error: 0.0373\n",
      "Epoch 67/100\n",
      "\u001b[1m18/44\u001b[0m \u001b[32m━━━━━━━━\u001b[0m\u001b[37m━━━━━━━━━━━━\u001b[0m \u001b[1m1s\u001b[0m 69ms/step - loss: 0.0025 - mean_absolute_error: 0.0390"
     ]
    },
    {
     "name": "stderr",
     "output_type": "stream",
     "text": [
      "[codecarbon INFO @ 14:49:41] Energy consumed for RAM : 0.001748 kWh. RAM Power : 20.0 W\n",
      "[codecarbon INFO @ 14:49:41] Delta energy consumed for CPU with constant : 0.000467 kWh, power : 112.0 W\n",
      "[codecarbon INFO @ 14:49:41] Energy consumed for All CPU : 0.009808 kWh\n",
      "[codecarbon INFO @ 14:49:41] 0.011557 kWh of electricity used since the beginning.\n"
     ]
    },
    {
     "name": "stdout",
     "output_type": "stream",
     "text": [
      "\u001b[1m44/44\u001b[0m \u001b[32m━━━━━━━━━━━━━━━━━━━━\u001b[0m\u001b[37m\u001b[0m \u001b[1m3s\u001b[0m 75ms/step - loss: 0.0025 - mean_absolute_error: 0.0383\n",
      "Epoch 68/100\n",
      "\u001b[1m44/44\u001b[0m \u001b[32m━━━━━━━━━━━━━━━━━━━━\u001b[0m\u001b[37m\u001b[0m \u001b[1m3s\u001b[0m 71ms/step - loss: 0.0026 - mean_absolute_error: 0.0389\n",
      "Epoch 69/100\n"
     ]
    },
    {
     "name": "stderr",
     "output_type": "stream",
     "text": [
      "[codecarbon INFO @ 14:49:46] Energy consumed for RAM : 0.001915 kWh. RAM Power : 20.0 W\n",
      "[codecarbon INFO @ 14:49:46] Delta energy consumed for CPU with constant : 0.000466 kWh, power : 112.0 W\n",
      "[codecarbon INFO @ 14:49:46] Energy consumed for All CPU : 0.010743 kWh\n",
      "[codecarbon INFO @ 14:49:46] 0.012658 kWh of electricity used since the beginning.\n"
     ]
    },
    {
     "name": "stdout",
     "output_type": "stream",
     "text": [
      "\u001b[1m44/44\u001b[0m \u001b[32m━━━━━━━━━━━━━━━━━━━━\u001b[0m\u001b[37m\u001b[0m \u001b[1m3s\u001b[0m 71ms/step - loss: 0.0026 - mean_absolute_error: 0.0392\n",
      "Epoch 70/100\n",
      "\u001b[1m44/44\u001b[0m \u001b[32m━━━━━━━━━━━━━━━━━━━━\u001b[0m\u001b[37m\u001b[0m \u001b[1m3s\u001b[0m 71ms/step - loss: 0.0026 - mean_absolute_error: 0.0386\n",
      "Epoch 71/100\n",
      "\u001b[1m20/44\u001b[0m \u001b[32m━━━━━━━━━\u001b[0m\u001b[37m━━━━━━━━━━━\u001b[0m \u001b[1m1s\u001b[0m 70ms/step - loss: 0.0021 - mean_absolute_error: 0.0360"
     ]
    },
    {
     "name": "stderr",
     "output_type": "stream",
     "text": [
      "[codecarbon INFO @ 14:49:56] Energy consumed for RAM : 0.001832 kWh. RAM Power : 20.0 W\n",
      "[codecarbon INFO @ 14:49:56] Delta energy consumed for CPU with constant : 0.000466 kWh, power : 112.0 W\n",
      "[codecarbon INFO @ 14:49:56] Energy consumed for All CPU : 0.010274 kWh\n",
      "[codecarbon INFO @ 14:49:56] 0.012106 kWh of electricity used since the beginning.\n"
     ]
    },
    {
     "name": "stdout",
     "output_type": "stream",
     "text": [
      "\u001b[1m44/44\u001b[0m \u001b[32m━━━━━━━━━━━━━━━━━━━━\u001b[0m\u001b[37m\u001b[0m \u001b[1m5s\u001b[0m 71ms/step - loss: 0.0024 - mean_absolute_error: 0.0374\n",
      "Epoch 72/100\n",
      "\u001b[1m44/44\u001b[0m \u001b[32m━━━━━━━━━━━━━━━━━━━━\u001b[0m\u001b[37m\u001b[0m \u001b[1m3s\u001b[0m 71ms/step - loss: 0.0025 - mean_absolute_error: 0.0376\n",
      "Epoch 73/100\n",
      "\u001b[1m 2/44\u001b[0m \u001b[37m━━━━━━━━━━━━━━━━━━━━\u001b[0m \u001b[1m2s\u001b[0m 70ms/step - loss: 0.0022 - mean_absolute_error: 0.0402 "
     ]
    },
    {
     "name": "stderr",
     "output_type": "stream",
     "text": [
      "[codecarbon INFO @ 14:50:01] Energy consumed for RAM : 0.001998 kWh. RAM Power : 20.0 W\n",
      "[codecarbon INFO @ 14:50:01] Delta energy consumed for CPU with constant : 0.000467 kWh, power : 112.0 W\n"
     ]
    },
    {
     "name": "stdout",
     "output_type": "stream",
     "text": [
      "\u001b[1m 3/44\u001b[0m \u001b[32m━\u001b[0m\u001b[37m━━━━━━━━━━━━━━━━━━━\u001b[0m \u001b[1m3s\u001b[0m 84ms/step - loss: 0.0022 - mean_absolute_error: 0.0395"
     ]
    },
    {
     "name": "stderr",
     "output_type": "stream",
     "text": [
      "[codecarbon INFO @ 14:50:01] Energy consumed for All CPU : 0.011209 kWh\n",
      "[codecarbon INFO @ 14:50:01] 0.013208 kWh of electricity used since the beginning.\n",
      "[codecarbon INFO @ 14:50:01] 0.005556 g.CO2eq/s mean an estimation of 175.20319316464293 kg.CO2eq/year\n"
     ]
    },
    {
     "name": "stdout",
     "output_type": "stream",
     "text": [
      "\u001b[1m44/44\u001b[0m \u001b[32m━━━━━━━━━━━━━━━━━━━━\u001b[0m\u001b[37m\u001b[0m \u001b[1m3s\u001b[0m 74ms/step - loss: 0.0024 - mean_absolute_error: 0.0377\n",
      "Epoch 74/100\n",
      "\u001b[1m44/44\u001b[0m \u001b[32m━━━━━━━━━━━━━━━━━━━━\u001b[0m\u001b[37m\u001b[0m \u001b[1m5s\u001b[0m 70ms/step - loss: 0.0025 - mean_absolute_error: 0.0377\n",
      "Epoch 75/100\n",
      "\u001b[1m23/44\u001b[0m \u001b[32m━━━━━━━━━━\u001b[0m\u001b[37m━━━━━━━━━━\u001b[0m \u001b[1m1s\u001b[0m 69ms/step - loss: 0.0028 - mean_absolute_error: 0.0384"
     ]
    },
    {
     "name": "stderr",
     "output_type": "stream",
     "text": [
      "[codecarbon INFO @ 14:50:11] Energy consumed for RAM : 0.001915 kWh. RAM Power : 20.0 W\n",
      "[codecarbon INFO @ 14:50:11] Delta energy consumed for CPU with constant : 0.000467 kWh, power : 112.0 W\n",
      "[codecarbon INFO @ 14:50:11] Energy consumed for All CPU : 0.010741 kWh\n",
      "[codecarbon INFO @ 14:50:11] 0.012656 kWh of electricity used since the beginning.\n"
     ]
    },
    {
     "name": "stdout",
     "output_type": "stream",
     "text": [
      "\u001b[1m44/44\u001b[0m \u001b[32m━━━━━━━━━━━━━━━━━━━━\u001b[0m\u001b[37m\u001b[0m \u001b[1m3s\u001b[0m 73ms/step - loss: 0.0025 - mean_absolute_error: 0.0387\n",
      "Epoch 76/100\n",
      "\u001b[1m44/44\u001b[0m \u001b[32m━━━━━━━━━━━━━━━━━━━━\u001b[0m\u001b[37m\u001b[0m \u001b[1m3s\u001b[0m 71ms/step - loss: 0.0024 - mean_absolute_error: 0.0377\n",
      "Epoch 77/100\n",
      "\u001b[1m 6/44\u001b[0m \u001b[32m━━\u001b[0m\u001b[37m━━━━━━━━━━━━━━━━━━\u001b[0m \u001b[1m2s\u001b[0m 70ms/step - loss: 0.0027 - mean_absolute_error: 0.0400"
     ]
    },
    {
     "name": "stderr",
     "output_type": "stream",
     "text": [
      "[codecarbon INFO @ 14:50:16] Energy consumed for RAM : 0.002082 kWh. RAM Power : 20.0 W\n",
      "[codecarbon INFO @ 14:50:16] Delta energy consumed for CPU with constant : 0.000467 kWh, power : 112.0 W\n",
      "[codecarbon INFO @ 14:50:16] Energy consumed for All CPU : 0.011676 kWh\n",
      "[codecarbon INFO @ 14:50:16] 0.013758 kWh of electricity used since the beginning.\n"
     ]
    },
    {
     "name": "stdout",
     "output_type": "stream",
     "text": [
      "\u001b[1m44/44\u001b[0m \u001b[32m━━━━━━━━━━━━━━━━━━━━\u001b[0m\u001b[37m\u001b[0m \u001b[1m3s\u001b[0m 71ms/step - loss: 0.0025 - mean_absolute_error: 0.0381\n",
      "Epoch 78/100\n",
      "\u001b[1m44/44\u001b[0m \u001b[32m━━━━━━━━━━━━━━━━━━━━\u001b[0m\u001b[37m\u001b[0m \u001b[1m3s\u001b[0m 71ms/step - loss: 0.0024 - mean_absolute_error: 0.0377\n",
      "Epoch 79/100\n",
      "\u001b[1m44/44\u001b[0m \u001b[32m━━━━━━━━━━━━━━━━━━━━\u001b[0m\u001b[37m\u001b[0m \u001b[1m3s\u001b[0m 70ms/step - loss: 0.0026 - mean_absolute_error: 0.0394\n",
      "Epoch 80/100\n",
      "\u001b[1m10/44\u001b[0m \u001b[32m━━━━\u001b[0m\u001b[37m━━━━━━━━━━━━━━━━\u001b[0m \u001b[1m2s\u001b[0m 69ms/step - loss: 0.0020 - mean_absolute_error: 0.0344"
     ]
    },
    {
     "name": "stderr",
     "output_type": "stream",
     "text": [
      "[codecarbon INFO @ 14:50:26] Energy consumed for RAM : 0.001998 kWh. RAM Power : 20.0 W\n"
     ]
    },
    {
     "name": "stdout",
     "output_type": "stream",
     "text": [
      "\u001b[1m11/44\u001b[0m \u001b[32m━━━━━\u001b[0m\u001b[37m━━━━━━━━━━━━━━━\u001b[0m \u001b[1m2s\u001b[0m 70ms/step - loss: 0.0021 - mean_absolute_error: 0.0346"
     ]
    },
    {
     "name": "stderr",
     "output_type": "stream",
     "text": [
      "[codecarbon INFO @ 14:50:26] Delta energy consumed for CPU with constant : 0.000467 kWh, power : 112.0 W\n",
      "[codecarbon INFO @ 14:50:26] Energy consumed for All CPU : 0.011208 kWh\n",
      "[codecarbon INFO @ 14:50:26] 0.013206 kWh of electricity used since the beginning.\n",
      "[codecarbon INFO @ 14:50:26] 0.005555 g.CO2eq/s mean an estimation of 175.17845744551215 kg.CO2eq/year\n"
     ]
    },
    {
     "name": "stdout",
     "output_type": "stream",
     "text": [
      "\u001b[1m44/44\u001b[0m \u001b[32m━━━━━━━━━━━━━━━━━━━━\u001b[0m\u001b[37m\u001b[0m \u001b[1m3s\u001b[0m 70ms/step - loss: 0.0024 - mean_absolute_error: 0.0376\n",
      "Epoch 81/100\n",
      "\u001b[1m40/44\u001b[0m \u001b[32m━━━━━━━━━━━━━━━━━━\u001b[0m\u001b[37m━━\u001b[0m \u001b[1m0s\u001b[0m 70ms/step - loss: 0.0027 - mean_absolute_error: 0.0399"
     ]
    },
    {
     "name": "stderr",
     "output_type": "stream",
     "text": [
      "[codecarbon INFO @ 14:50:31] Energy consumed for RAM : 0.002165 kWh. RAM Power : 20.0 W\n",
      "[codecarbon INFO @ 14:50:31] Delta energy consumed for CPU with constant : 0.000467 kWh, power : 112.0 W\n",
      "[codecarbon INFO @ 14:50:31] Energy consumed for All CPU : 0.012143 kWh\n"
     ]
    },
    {
     "name": "stdout",
     "output_type": "stream",
     "text": [
      "\u001b[1m41/44\u001b[0m \u001b[32m━━━━━━━━━━━━━━━━━━\u001b[0m\u001b[37m━━\u001b[0m \u001b[1m0s\u001b[0m 70ms/step - loss: 0.0027 - mean_absolute_error: 0.0399"
     ]
    },
    {
     "name": "stderr",
     "output_type": "stream",
     "text": [
      "[codecarbon INFO @ 14:50:31] 0.014308 kWh of electricity used since the beginning.\n"
     ]
    },
    {
     "name": "stdout",
     "output_type": "stream",
     "text": [
      "\u001b[1m44/44\u001b[0m \u001b[32m━━━━━━━━━━━━━━━━━━━━\u001b[0m\u001b[37m\u001b[0m \u001b[1m3s\u001b[0m 71ms/step - loss: 0.0026 - mean_absolute_error: 0.0389\n",
      "Epoch 82/100\n",
      "\u001b[1m44/44\u001b[0m \u001b[32m━━━━━━━━━━━━━━━━━━━━\u001b[0m\u001b[37m\u001b[0m \u001b[1m3s\u001b[0m 70ms/step - loss: 0.0026 - mean_absolute_error: 0.0388\n",
      "Epoch 83/100\n",
      "\u001b[1m44/44\u001b[0m \u001b[32m━━━━━━━━━━━━━━━━━━━━\u001b[0m\u001b[37m\u001b[0m \u001b[1m3s\u001b[0m 70ms/step - loss: 0.0025 - mean_absolute_error: 0.0389\n",
      "Epoch 84/100\n",
      "\u001b[1m44/44\u001b[0m \u001b[32m━━━━━━━━━━━━━━━━━━━━\u001b[0m\u001b[37m\u001b[0m \u001b[1m3s\u001b[0m 72ms/step - loss: 0.0025 - mean_absolute_error: 0.0377\n",
      "Epoch 85/100\n"
     ]
    },
    {
     "name": "stderr",
     "output_type": "stream",
     "text": [
      "[codecarbon INFO @ 14:50:41] Energy consumed for RAM : 0.002081 kWh. RAM Power : 20.0 W\n",
      "[codecarbon INFO @ 14:50:41] Delta energy consumed for CPU with constant : 0.000466 kWh, power : 112.0 W\n",
      "[codecarbon INFO @ 14:50:41] Energy consumed for All CPU : 0.011674 kWh\n",
      "[codecarbon INFO @ 14:50:41] 0.013756 kWh of electricity used since the beginning.\n"
     ]
    },
    {
     "name": "stdout",
     "output_type": "stream",
     "text": [
      "\u001b[1m39/44\u001b[0m \u001b[32m━━━━━━━━━━━━━━━━━\u001b[0m\u001b[37m━━━\u001b[0m \u001b[1m0s\u001b[0m 82ms/step - loss: 0.0025 - mean_absolute_error: 0.0387"
     ]
    },
    {
     "name": "stderr",
     "output_type": "stream",
     "text": [
      "[codecarbon INFO @ 14:50:46] Energy consumed for RAM : 0.002248 kWh. RAM Power : 20.0 W\n",
      "[codecarbon INFO @ 14:50:46] Delta energy consumed for CPU with constant : 0.000467 kWh, power : 112.0 W\n",
      "[codecarbon INFO @ 14:50:46] Energy consumed for All CPU : 0.012610 kWh\n",
      "[codecarbon INFO @ 14:50:46] 0.014858 kWh of electricity used since the beginning.\n"
     ]
    },
    {
     "name": "stdout",
     "output_type": "stream",
     "text": [
      "\u001b[1m44/44\u001b[0m \u001b[32m━━━━━━━━━━━━━━━━━━━━\u001b[0m\u001b[37m\u001b[0m \u001b[1m6s\u001b[0m 84ms/step - loss: 0.0025 - mean_absolute_error: 0.0386\n",
      "Epoch 86/100\n",
      "\u001b[1m44/44\u001b[0m \u001b[32m━━━━━━━━━━━━━━━━━━━━\u001b[0m\u001b[37m\u001b[0m \u001b[1m5s\u001b[0m 81ms/step - loss: 0.0025 - mean_absolute_error: 0.0381\n",
      "Epoch 87/100\n",
      "\u001b[1m35/44\u001b[0m \u001b[32m━━━━━━━━━━━━━━━\u001b[0m\u001b[37m━━━━━\u001b[0m \u001b[1m0s\u001b[0m 71ms/step - loss: 0.0025 - mean_absolute_error: 0.0374"
     ]
    },
    {
     "name": "stderr",
     "output_type": "stream",
     "text": [
      "[codecarbon INFO @ 14:50:56] Energy consumed for RAM : 0.002164 kWh. RAM Power : 20.0 W\n",
      "[codecarbon INFO @ 14:50:56] Delta energy consumed for CPU with constant : 0.000467 kWh, power : 112.0 W\n",
      "[codecarbon INFO @ 14:50:56] Energy consumed for All CPU : 0.012141 kWh\n",
      "[codecarbon INFO @ 14:50:56] 0.014305 kWh of electricity used since the beginning.\n"
     ]
    },
    {
     "name": "stdout",
     "output_type": "stream",
     "text": [
      "\u001b[1m44/44\u001b[0m \u001b[32m━━━━━━━━━━━━━━━━━━━━\u001b[0m\u001b[37m\u001b[0m \u001b[1m5s\u001b[0m 71ms/step - loss: 0.0024 - mean_absolute_error: 0.0372\n",
      "Epoch 88/100\n",
      "\u001b[1m44/44\u001b[0m \u001b[32m━━━━━━━━━━━━━━━━━━━━\u001b[0m\u001b[37m\u001b[0m \u001b[1m3s\u001b[0m 69ms/step - loss: 0.0028 - mean_absolute_error: 0.0413\n",
      "Epoch 89/100\n"
     ]
    },
    {
     "name": "stderr",
     "output_type": "stream",
     "text": [
      "[codecarbon INFO @ 14:51:01] Energy consumed for RAM : 0.002331 kWh. RAM Power : 20.0 W\n",
      "[codecarbon INFO @ 14:51:01] Delta energy consumed for CPU with constant : 0.000466 kWh, power : 112.0 W\n",
      "[codecarbon INFO @ 14:51:01] Energy consumed for All CPU : 0.013077 kWh\n",
      "[codecarbon INFO @ 14:51:01] 0.015408 kWh of electricity used since the beginning.\n"
     ]
    },
    {
     "name": "stdout",
     "output_type": "stream",
     "text": [
      "\u001b[1m44/44\u001b[0m \u001b[32m━━━━━━━━━━━━━━━━━━━━\u001b[0m\u001b[37m\u001b[0m \u001b[1m5s\u001b[0m 68ms/step - loss: 0.0024 - mean_absolute_error: 0.0369\n",
      "Epoch 90/100\n",
      "\u001b[1m44/44\u001b[0m \u001b[32m━━━━━━━━━━━━━━━━━━━━\u001b[0m\u001b[37m\u001b[0m \u001b[1m3s\u001b[0m 69ms/step - loss: 0.0024 - mean_absolute_error: 0.0366\n",
      "Epoch 91/100\n",
      "\u001b[1m44/44\u001b[0m \u001b[32m━━━━━━━━━━━━━━━━━━━━\u001b[0m\u001b[37m\u001b[0m \u001b[1m3s\u001b[0m 68ms/step - loss: 0.0024 - mean_absolute_error: 0.0378\n",
      "Epoch 92/100\n"
     ]
    },
    {
     "name": "stderr",
     "output_type": "stream",
     "text": [
      "[codecarbon INFO @ 14:51:11] Energy consumed for RAM : 0.002248 kWh. RAM Power : 20.0 W\n",
      "[codecarbon INFO @ 14:51:11] Delta energy consumed for CPU with constant : 0.000467 kWh, power : 112.0 W\n",
      "[codecarbon INFO @ 14:51:11] Energy consumed for All CPU : 0.012608 kWh\n",
      "[codecarbon INFO @ 14:51:11] 0.014855 kWh of electricity used since the beginning.\n"
     ]
    },
    {
     "name": "stdout",
     "output_type": "stream",
     "text": [
      "\u001b[1m44/44\u001b[0m \u001b[32m━━━━━━━━━━━━━━━━━━━━\u001b[0m\u001b[37m\u001b[0m \u001b[1m4s\u001b[0m 84ms/step - loss: 0.0024 - mean_absolute_error: 0.0371\n",
      "Epoch 93/100\n",
      "\u001b[1m20/44\u001b[0m \u001b[32m━━━━━━━━━\u001b[0m\u001b[37m━━━━━━━━━━━\u001b[0m \u001b[1m1s\u001b[0m 71ms/step - loss: 0.0030 - mean_absolute_error: 0.0395"
     ]
    },
    {
     "name": "stderr",
     "output_type": "stream",
     "text": [
      "[codecarbon INFO @ 14:51:16] Energy consumed for RAM : 0.002414 kWh. RAM Power : 20.0 W\n",
      "[codecarbon INFO @ 14:51:16] Delta energy consumed for CPU with constant : 0.000467 kWh, power : 112.0 W\n",
      "[codecarbon INFO @ 14:51:16] Energy consumed for All CPU : 0.013543 kWh\n",
      "[codecarbon INFO @ 14:51:16] 0.015958 kWh of electricity used since the beginning.\n"
     ]
    },
    {
     "name": "stdout",
     "output_type": "stream",
     "text": [
      "\u001b[1m44/44\u001b[0m \u001b[32m━━━━━━━━━━━━━━━━━━━━\u001b[0m\u001b[37m\u001b[0m \u001b[1m3s\u001b[0m 72ms/step - loss: 0.0025 - mean_absolute_error: 0.0385\n",
      "Epoch 94/100\n",
      "\u001b[1m44/44\u001b[0m \u001b[32m━━━━━━━━━━━━━━━━━━━━\u001b[0m\u001b[37m\u001b[0m \u001b[1m3s\u001b[0m 74ms/step - loss: 0.0026 - mean_absolute_error: 0.0386\n",
      "Epoch 95/100\n",
      "\u001b[1m44/44\u001b[0m \u001b[32m━━━━━━━━━━━━━━━━━━━━\u001b[0m\u001b[37m\u001b[0m \u001b[1m3s\u001b[0m 75ms/step - loss: 0.0024 - mean_absolute_error: 0.0377\n",
      "Epoch 96/100\n",
      "\u001b[1m18/44\u001b[0m \u001b[32m━━━━━━━━\u001b[0m\u001b[37m━━━━━━━━━━━━\u001b[0m \u001b[1m1s\u001b[0m 71ms/step - loss: 0.0026 - mean_absolute_error: 0.0384"
     ]
    },
    {
     "name": "stderr",
     "output_type": "stream",
     "text": [
      "[codecarbon INFO @ 14:51:26] Energy consumed for RAM : 0.002331 kWh. RAM Power : 20.0 W\n",
      "[codecarbon INFO @ 14:51:26] Delta energy consumed for CPU with constant : 0.000467 kWh, power : 112.0 W\n",
      "[codecarbon INFO @ 14:51:26] Energy consumed for All CPU : 0.013075 kWh\n",
      "[codecarbon INFO @ 14:51:26] 0.015406 kWh of electricity used since the beginning.\n"
     ]
    },
    {
     "name": "stdout",
     "output_type": "stream",
     "text": [
      "\u001b[1m44/44\u001b[0m \u001b[32m━━━━━━━━━━━━━━━━━━━━\u001b[0m\u001b[37m\u001b[0m \u001b[1m3s\u001b[0m 73ms/step - loss: 0.0025 - mean_absolute_error: 0.0379\n",
      "Epoch 97/100\n",
      "\u001b[1m44/44\u001b[0m \u001b[32m━━━━━━━━━━━━━━━━━━━━\u001b[0m\u001b[37m\u001b[0m \u001b[1m3s\u001b[0m 75ms/step - loss: 0.0025 - mean_absolute_error: 0.0376\n"
     ]
    },
    {
     "name": "stderr",
     "output_type": "stream",
     "text": [
      "[codecarbon INFO @ 14:51:31] Energy consumed for RAM : 0.002498 kWh. RAM Power : 20.0 W\n",
      "[codecarbon INFO @ 14:51:31] Delta energy consumed for CPU with constant : 0.000466 kWh, power : 112.0 W\n",
      "[codecarbon INFO @ 14:51:31] Energy consumed for All CPU : 0.014010 kWh\n"
     ]
    },
    {
     "name": "stdout",
     "output_type": "stream",
     "text": [
      "Epoch 98/100\n"
     ]
    },
    {
     "name": "stderr",
     "output_type": "stream",
     "text": [
      "[codecarbon INFO @ 14:51:31] 0.016507 kWh of electricity used since the beginning.\n"
     ]
    },
    {
     "name": "stdout",
     "output_type": "stream",
     "text": [
      "\u001b[1m44/44\u001b[0m \u001b[32m━━━━━━━━━━━━━━━━━━━━\u001b[0m\u001b[37m\u001b[0m \u001b[1m3s\u001b[0m 72ms/step - loss: 0.0024 - mean_absolute_error: 0.0368\n",
      "Epoch 99/100\n",
      "\u001b[1m44/44\u001b[0m \u001b[32m━━━━━━━━━━━━━━━━━━━━\u001b[0m\u001b[37m\u001b[0m \u001b[1m3s\u001b[0m 73ms/step - loss: 0.0024 - mean_absolute_error: 0.0374\n",
      "Epoch 100/100\n",
      "\u001b[1m44/44\u001b[0m \u001b[32m━━━━━━━━━━━━━━━━━━━━\u001b[0m\u001b[37m\u001b[0m \u001b[1m3s\u001b[0m 69ms/step - loss: 0.0027 - mean_absolute_error: 0.0400\n"
     ]
    },
    {
     "name": "stderr",
     "output_type": "stream",
     "text": [
      "[codecarbon INFO @ 14:51:41] Energy consumed for RAM : 0.002414 kWh. RAM Power : 20.0 W\n",
      "[codecarbon INFO @ 14:51:41] Delta energy consumed for CPU with constant : 0.000466 kWh, power : 112.0 W\n",
      "[codecarbon INFO @ 14:51:41] Energy consumed for All CPU : 0.013541 kWh\n",
      "[codecarbon INFO @ 14:51:41] 0.015955 kWh of electricity used since the beginning.\n",
      "[codecarbon INFO @ 14:51:46] Energy consumed for RAM : 0.002581 kWh. RAM Power : 20.0 W\n",
      "[codecarbon INFO @ 14:51:46] Delta energy consumed for CPU with constant : 0.000466 kWh, power : 112.0 W\n",
      "[codecarbon INFO @ 14:51:46] Energy consumed for All CPU : 0.014476 kWh\n",
      "[codecarbon INFO @ 14:51:46] 0.017057 kWh of electricity used since the beginning.\n",
      "[codecarbon INFO @ 14:51:56] Energy consumed for RAM : 0.002497 kWh. RAM Power : 20.0 W\n",
      "[codecarbon INFO @ 14:51:56] Delta energy consumed for CPU with constant : 0.000467 kWh, power : 112.0 W\n",
      "[codecarbon INFO @ 14:51:56] Energy consumed for All CPU : 0.014008 kWh\n",
      "[codecarbon INFO @ 14:51:56] 0.016505 kWh of electricity used since the beginning.\n",
      "[codecarbon INFO @ 14:52:01] Energy consumed for RAM : 0.002664 kWh. RAM Power : 20.0 W\n",
      "[codecarbon INFO @ 14:52:01] Delta energy consumed for CPU with constant : 0.000467 kWh, power : 112.0 W\n",
      "[codecarbon INFO @ 14:52:01] Energy consumed for All CPU : 0.014943 kWh\n",
      "[codecarbon INFO @ 14:52:01] 0.017607 kWh of electricity used since the beginning.\n",
      "[codecarbon INFO @ 14:52:01] 0.005556 g.CO2eq/s mean an estimation of 175.20356497396472 kg.CO2eq/year\n"
     ]
    }
   ],
   "source": [
    "history = model.fit(\n",
    "    x_train, \n",
    "    y_train, \n",
    "    epochs=100, \n",
    "    batch_size=32, \n",
    "    callbacks=[WandbCallback(save_graph=False)]\n",
    ")\n"
   ]
  },
  {
   "cell_type": "code",
   "execution_count": 33,
   "id": "588def77",
   "metadata": {},
   "outputs": [
    {
     "data": {
      "image/png": "[encoded data removed]",
      "text/plain": [
       "<Figure size 1200x800 with 1 Axes>"
      ]
     },
     "metadata": {},
     "output_type": "display_data"
    },
    {
     "name": "stderr",
     "output_type": "stream",
     "text": [
      "[codecarbon INFO @ 14:52:11] Energy consumed for RAM : 0.002580 kWh. RAM Power : 20.0 W\n",
      "[codecarbon INFO @ 14:52:11] Delta energy consumed for CPU with constant : 0.000467 kWh, power : 112.0 W\n",
      "[codecarbon INFO @ 14:52:11] Energy consumed for All CPU : 0.014475 kWh\n",
      "[codecarbon INFO @ 14:52:11] 0.017055 kWh of electricity used since the beginning.\n",
      "[codecarbon INFO @ 14:52:16] Energy consumed for RAM : 0.002747 kWh. RAM Power : 20.0 W\n",
      "[codecarbon INFO @ 14:52:16] Delta energy consumed for CPU with constant : 0.000466 kWh, power : 112.0 W\n",
      "[codecarbon INFO @ 14:52:16] Energy consumed for All CPU : 0.015409 kWh\n",
      "[codecarbon INFO @ 14:52:16] 0.018157 kWh of electricity used since the beginning.\n"
     ]
    }
   ],
   "source": [
    "plt.figure(figsize=(12, 8))\n",
    "plt.plot(history.history[\"loss\"])\n",
    "plt.plot(history.history[\"mean_absolute_error\"])\n",
    "plt.legend(['Mean Squared Error','Mean Absolute Error'])\n",
    "plt.title(\"Losses\")\n",
    "plt.xlabel(\"epochs\")\n",
    "plt.ylabel(\"loss\")\n",
    "plt.show()"
   ]
  },
  {
   "cell_type": "code",
   "execution_count": null,
   "id": "98ae53e5",
   "metadata": {},
   "outputs": [
    {
     "name": "stderr",
     "output_type": "stream",
     "text": [
      "[codecarbon INFO @ 14:52:20] Energy consumed for RAM : 0.002627 kWh. RAM Power : 20.0 W\n",
      "[codecarbon INFO @ 14:52:20] Delta energy consumed for CPU with constant : 0.000260 kWh, power : 112.0 W\n",
      "[codecarbon INFO @ 14:52:20] Energy consumed for All CPU : 0.014735 kWh\n",
      "[codecarbon INFO @ 14:52:20] 0.017362 kWh of electricity used since the beginning.\n",
      "[codecarbon INFO @ 14:52:20] 0.005556 g.CO2eq/s mean an estimation of 175.21091110198878 kg.CO2eq/year\n"
     ]
    },
    {
     "name": "stdout",
     "output_type": "stream",
     "text": [
      "Emissions: 0.0026329530544432675 kg CO₂eq\n"
     ]
    },
    {
     "name": "stderr",
     "output_type": "stream",
     "text": [
      "[codecarbon INFO @ 14:52:31] Energy consumed for RAM : 0.002830 kWh. RAM Power : 20.0 W\n",
      "[codecarbon INFO @ 14:52:31] Delta energy consumed for CPU with constant : 0.000466 kWh, power : 112.0 W\n",
      "[codecarbon INFO @ 14:52:31] Energy consumed for All CPU : 0.015876 kWh\n",
      "[codecarbon INFO @ 14:52:31] 0.018706 kWh of electricity used since the beginning.\n",
      "[codecarbon INFO @ 14:52:46] Energy consumed for RAM : 0.002914 kWh. RAM Power : 20.0 W\n",
      "[codecarbon INFO @ 14:52:46] Delta energy consumed for CPU with constant : 0.000467 kWh, power : 112.0 W\n",
      "[codecarbon INFO @ 14:52:46] Energy consumed for All CPU : 0.016342 kWh\n",
      "[codecarbon INFO @ 14:52:46] 0.019256 kWh of electricity used since the beginning.\n",
      "[codecarbon INFO @ 14:53:01] Energy consumed for RAM : 0.002997 kWh. RAM Power : 20.0 W\n",
      "[codecarbon INFO @ 14:53:01] Delta energy consumed for CPU with constant : 0.000467 kWh, power : 112.0 W\n",
      "[codecarbon INFO @ 14:53:01] Energy consumed for All CPU : 0.016809 kWh\n",
      "[codecarbon INFO @ 14:53:01] 0.019806 kWh of electricity used since the beginning.\n",
      "[codecarbon INFO @ 14:53:16] Energy consumed for RAM : 0.003080 kWh. RAM Power : 20.0 W\n",
      "[codecarbon INFO @ 14:53:16] Delta energy consumed for CPU with constant : 0.000467 kWh, power : 112.0 W\n",
      "[codecarbon INFO @ 14:53:16] Energy consumed for All CPU : 0.017276 kWh\n",
      "[codecarbon INFO @ 14:53:16] 0.020356 kWh of electricity used since the beginning.\n",
      "[codecarbon INFO @ 14:53:31] Energy consumed for RAM : 0.003163 kWh. RAM Power : 20.0 W\n",
      "[codecarbon INFO @ 14:53:31] Delta energy consumed for CPU with constant : 0.000467 kWh, power : 112.0 W\n",
      "[codecarbon INFO @ 14:53:31] Energy consumed for All CPU : 0.017743 kWh\n",
      "[codecarbon INFO @ 14:53:31] 0.020906 kWh of electricity used since the beginning.\n",
      "[codecarbon INFO @ 14:53:46] Energy consumed for RAM : 0.003246 kWh. RAM Power : 20.0 W\n",
      "[codecarbon INFO @ 14:53:46] Delta energy consumed for CPU with constant : 0.000466 kWh, power : 112.0 W\n",
      "[codecarbon INFO @ 14:53:46] Energy consumed for All CPU : 0.018209 kWh\n",
      "[codecarbon INFO @ 14:53:46] 0.021456 kWh of electricity used since the beginning.\n",
      "[codecarbon INFO @ 14:54:01] Energy consumed for RAM : 0.003330 kWh. RAM Power : 20.0 W\n",
      "[codecarbon INFO @ 14:54:01] Delta energy consumed for CPU with constant : 0.000467 kWh, power : 112.0 W\n",
      "[codecarbon INFO @ 14:54:01] Energy consumed for All CPU : 0.018676 kWh\n",
      "[codecarbon INFO @ 14:54:01] 0.022006 kWh of electricity used since the beginning.\n",
      "[codecarbon INFO @ 14:54:01] 0.005556 g.CO2eq/s mean an estimation of 175.21627918464893 kg.CO2eq/year\n",
      "[codecarbon INFO @ 14:54:16] Energy consumed for RAM : 0.003413 kWh. RAM Power : 20.0 W\n",
      "[codecarbon INFO @ 14:54:16] Delta energy consumed for CPU with constant : 0.000467 kWh, power : 112.0 W\n",
      "[codecarbon INFO @ 14:54:16] Energy consumed for All CPU : 0.019142 kWh\n",
      "[codecarbon INFO @ 14:54:16] 0.022555 kWh of electricity used since the beginning.\n",
      "[codecarbon INFO @ 14:54:31] Energy consumed for RAM : 0.003496 kWh. RAM Power : 20.0 W\n",
      "[codecarbon INFO @ 14:54:31] Delta energy consumed for CPU with constant : 0.000467 kWh, power : 112.0 W\n",
      "[codecarbon INFO @ 14:54:31] Energy consumed for All CPU : 0.019609 kWh\n",
      "[codecarbon INFO @ 14:54:31] 0.023105 kWh of electricity used since the beginning.\n",
      "[codecarbon INFO @ 14:54:46] Energy consumed for RAM : 0.003579 kWh. RAM Power : 20.0 W\n",
      "[codecarbon INFO @ 14:54:47] Delta energy consumed for CPU with constant : 0.000468 kWh, power : 112.0 W\n",
      "[codecarbon INFO @ 14:54:47] Energy consumed for All CPU : 0.020077 kWh\n",
      "[codecarbon INFO @ 14:54:47] 0.023656 kWh of electricity used since the beginning.\n",
      "[codecarbon INFO @ 14:55:01] Energy consumed for RAM : 0.003662 kWh. RAM Power : 20.0 W\n",
      "[codecarbon INFO @ 14:55:02] Delta energy consumed for CPU with constant : 0.000466 kWh, power : 112.0 W\n",
      "[codecarbon INFO @ 14:55:02] Energy consumed for All CPU : 0.020543 kWh\n",
      "[codecarbon INFO @ 14:55:02] 0.024205 kWh of electricity used since the beginning.\n",
      "[codecarbon INFO @ 14:55:17] Energy consumed for RAM : 0.003746 kWh. RAM Power : 20.0 W\n",
      "[codecarbon INFO @ 14:55:17] Delta energy consumed for CPU with constant : 0.000467 kWh, power : 112.0 W\n",
      "[codecarbon INFO @ 14:55:17] Energy consumed for All CPU : 0.021010 kWh\n",
      "[codecarbon INFO @ 14:55:17] 0.024756 kWh of electricity used since the beginning.\n"
     ]
    }
   ],
   "source": [
    "# Stop tracker and get emissions\n",
    "emissions = tracker.stop()\n",
    "print(f\"Emissions: {emissions} kg CO₂eq\")"
   ]
  },
  {
   "cell_type": "code",
   "execution_count": null,
   "id": "be6beb89",
   "metadata": {},
   "outputs": [],
   "source": []
  }
 ],
 "metadata": {
  "kernelspec": {
   "display_name": ".venv",
   "language": "python",
   "name": "python3"
  },
  "language_info": {
   "codemirror_mode": {
    "name": "ipython",
    "version": 3
   },
   "file_extension": ".py",
   "mimetype": "text/x-python",
   "name": "python",
   "nbconvert_exporter": "python",
   "pygments_lexer": "ipython3",
   "version": "3.10.7"
  }
 },
 "nbformat": 4,
 "nbformat_minor": 5
}
